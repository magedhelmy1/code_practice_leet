{
 "cells": [
  {
   "cell_type": "markdown",
   "metadata": {},
   "source": [
    "<h1> Algorithms 1 </h1>"
   ]
  },
  {
   "cell_type": "markdown",
   "metadata": {},
   "source": [
    "<p> Question 1: Given an array of integers, return indices of the two numbers such that they add up to a specific target. You may assume that each input would have exactly one solution, and you may not use the same element twice. <p>"
   ]
  },
  {
   "cell_type": "code",
   "execution_count": 1,
   "metadata": {
    "execution": {
     "iopub.execute_input": "2020-05-04T18:45:19.148094Z",
     "iopub.status.busy": "2020-05-04T18:45:19.147991Z",
     "iopub.status.idle": "2020-05-04T18:45:19.152952Z",
     "shell.execute_reply": "2020-05-04T18:45:19.152834Z",
     "shell.execute_reply.started": "2020-05-04T18:45:19.148074Z"
    }
   },
   "outputs": [],
   "source": [
    "from typing import List\n",
    "\n",
    "class Solution_1:\n",
    "    def twoSum(self, nums: List[int], target: int) -> List[int]:\n",
    "        \n",
    "        \"\"\"\n",
    "        Takes in a list and a target value and returns the index of values that add up to the target.\n",
    "        This uses 2 for loops so is very slow.\n",
    "\n",
    "        Parameters:\n",
    "        --------\n",
    "        nums List[int]: List of Integers\n",
    "\n",
    "        Returns:\n",
    "        --------\n",
    "        target [int]: returns [index1,index2]\n",
    "        \n",
    "        Examples:\n",
    "        --------\n",
    "        Given nums = [2, 7, 11, 15], target = 9,\n",
    "\n",
    "        Because nums[0] + nums[1] = 2 + 7 = 9,\n",
    "        return [0, 1].\n",
    "\n",
    "        \"\"\"\n",
    "        for i,x in enumerate(nums):\n",
    "            for j,y in enumerate(nums):\n",
    "                if i != j and x + y == target:\n",
    "                    return [i,j]\n",
    "                \n",
    "class Solution_2:\n",
    "    def twoSum(self, nums: List[int], target: int) -> List[int]:\n",
    "        \"\"\"\n",
    "        Takes in a list and a target value and returns the index of values that add up to the target.\n",
    "        The first loop holds the index and value in i and num_1 respectively. The num_1 is subtracted \n",
    "        from the target value, creating num_2. num_2 checks the dictionary if it exists there. If not,\n",
    "        num_1 is added to the dictonary and the loop goes on. The goal is to get \"num_2\" from the list.\n",
    "        Returning [not_seen[num_2], i], instead of [not_seen[num_2], not_seen[num_1]], ensures that the \n",
    "        same value is not returned.\n",
    "\n",
    "        Parameters:\n",
    "        --------\n",
    "        nums List[int]: List of Integers\n",
    "\n",
    "        Returns:\n",
    "        --------\n",
    "        target [int]: returns [index1,index2]\n",
    "        \"\"\"\n",
    "        \n",
    "        not_seen = {}\n",
    "        for i, num_1 in enumerate(nums):\n",
    "            num_2 = target - num_1\n",
    "            \n",
    "            if num_2 not in not_seen:\n",
    "                not_seen[num_1] = i\n",
    "            else:\n",
    "                return [not_seen[num_2], i]\n"
   ]
  },
  {
   "cell_type": "code",
   "execution_count": 2,
   "metadata": {
    "execution": {
     "iopub.execute_input": "2020-05-04T18:45:19.153188Z",
     "iopub.status.busy": "2020-05-04T18:45:19.153108Z",
     "iopub.status.idle": "2020-05-04T18:45:19.153738Z",
     "shell.execute_reply": "2020-05-04T18:45:19.153661Z",
     "shell.execute_reply.started": "2020-05-04T18:45:19.153168Z"
    }
   },
   "outputs": [
    {
     "data": {
      "text/plain": [
       "[0, 1]"
      ]
     },
     "execution_count": 2,
     "metadata": {},
     "output_type": "execute_result"
    }
   ],
   "source": [
    "question_1_1 = Solution_1()\n",
    "\n",
    "question_1_1.twoSum([3,3], target = 6)"
   ]
  },
  {
   "cell_type": "code",
   "execution_count": 3,
   "metadata": {
    "execution": {
     "iopub.execute_input": "2020-05-04T18:45:19.153972Z",
     "iopub.status.busy": "2020-05-04T18:45:19.153870Z",
     "iopub.status.idle": "2020-05-04T18:45:19.154517Z",
     "shell.execute_reply": "2020-05-04T18:45:19.154445Z",
     "shell.execute_reply.started": "2020-05-04T18:45:19.153952Z"
    }
   },
   "outputs": [
    {
     "data": {
      "text/plain": [
       "[0, 1]"
      ]
     },
     "execution_count": 3,
     "metadata": {},
     "output_type": "execute_result"
    }
   ],
   "source": [
    "question_1_2 = Solution_2()\n",
    "\n",
    "question_1_2.twoSum([2,7,11,15], target = 9)"
   ]
  },
  {
   "cell_type": "markdown",
   "metadata": {
    "execution": {
     "iopub.execute_input": "2020-05-04T17:45:42.718370Z",
     "iopub.status.busy": "2020-05-04T17:45:42.717420Z",
     "iopub.status.idle": "2020-05-04T17:45:42.430329Z",
     "shell.execute_reply": "2020-05-04T17:45:42.227095Z",
     "shell.execute_reply.started": "2020-05-04T17:45:42.71815Z"
    }
   },
   "source": [
    "<p> Question 2: Given a 32-bit signed integer, reverse digits of an integer. <p>"
   ]
  },
  {
   "cell_type": "code",
   "execution_count": 4,
   "metadata": {
    "execution": {
     "iopub.execute_input": "2020-05-04T18:45:19.154795Z",
     "iopub.status.busy": "2020-05-04T18:45:19.154708Z",
     "iopub.status.idle": "2020-05-04T18:45:19.155500Z",
     "shell.execute_reply": "2020-05-04T18:45:19.155410Z",
     "shell.execute_reply.started": "2020-05-04T18:45:19.154775Z"
    }
   },
   "outputs": [],
   "source": [
    "class Solution:\n",
    "    def reverse(self, x: int) -> int:\n",
    "        \n",
    "        \"\"\"\n",
    "        Takes in a positive or negative integer.The defination first checks if it is greater than or less than zero.\n",
    "        If less than zero, convert it to positive value. If positive value keep as is.  To convert to integer, we first\n",
    "        convert it to a string, use pythonic reverse function and multiply it by -1 in case of negative, keep as is in\n",
    "        case of positive. We use int (get rid of any trailing zeros)-> str (convert to string to reverse)-> int \n",
    "        (get rid of any trailing zeros)\n",
    "        \n",
    "        Parameters:\n",
    "        --------\n",
    "        x: int value(s)\n",
    "\n",
    "        Returns:\n",
    "        --------\n",
    "        int: int value(s)\n",
    "        \n",
    "        Examples:\n",
    "        --------\n",
    "        Example 1:\n",
    "        Input: 123\n",
    "        Output: 321\n",
    "        \n",
    "        Example 2:\n",
    "        Input: -123\n",
    "        Output: -321\n",
    "        \n",
    "        Example 3:\n",
    "        Input: 120\n",
    "        Output: 21\n",
    "        \"\"\"\n",
    "        \n",
    "        \n",
    "        if x < 0:\n",
    "            neg_value = -1*int(str(x*-1)[::-1])\n",
    "            return neg_value if neg_value.bit_length()<= 31 else 0\n",
    "                 \n",
    "               \n",
    "        elif x >= 0:\n",
    "            pos_value = int(str(int(x))[::-1])\n",
    "            return pos_value if pos_value.bit_length() <= 31 else 0\n",
    "\n",
    "        else:\n",
    "            return 0"
   ]
  },
  {
   "cell_type": "code",
   "execution_count": 5,
   "metadata": {
    "execution": {
     "iopub.execute_input": "2020-05-04T18:45:19.155739Z",
     "iopub.status.busy": "2020-05-04T18:45:19.155657Z",
     "iopub.status.idle": "2020-05-04T18:45:19.156229Z",
     "shell.execute_reply": "2020-05-04T18:45:19.156145Z",
     "shell.execute_reply.started": "2020-05-04T18:45:19.155720Z"
    }
   },
   "outputs": [
    {
     "data": {
      "text/plain": [
       "0"
      ]
     },
     "execution_count": 5,
     "metadata": {},
     "output_type": "execute_result"
    }
   ],
   "source": [
    "question_2_1 = Solution()\n",
    "question_2_1.reverse(-1534236469)"
   ]
  },
  {
   "cell_type": "markdown",
   "metadata": {},
   "source": [
    "Question 3: Determine whether an integer is a palindrome. An integer is a palindrome when it reads the same backward as forward."
   ]
  },
  {
   "cell_type": "code",
   "execution_count": 6,
   "metadata": {
    "execution": {
     "iopub.execute_input": "2020-05-04T18:45:19.156495Z",
     "iopub.status.busy": "2020-05-04T18:45:19.156412Z",
     "iopub.status.idle": "2020-05-04T18:45:19.157161Z",
     "shell.execute_reply": "2020-05-04T18:45:19.157062Z",
     "shell.execute_reply.started": "2020-05-04T18:45:19.156474Z"
    }
   },
   "outputs": [],
   "source": [
    "class Solution:\n",
    "\n",
    "    def isPalindrome(self, x: int) -> bool:\n",
    "        \"\"\"\n",
    "        Takes in a positive or negative integer and determines whether the integer is a palindrome, We use modulus % to get the value of the remainder.\n",
    "        and divide by 10 to move to the next value. Such as, dividing the number by 10, gives back the last number and takes the first position. I then\n",
    "        shuffle to the next number and append it and so on. So we inverse the input value 123 -> 3, 32 , 321.\n",
    "        \n",
    "        Parameters:\n",
    "        --------\n",
    "        x: int value(s)\n",
    "\n",
    "        Returns:\n",
    "        --------\n",
    "        bool: True\n",
    "        \n",
    "        Examples\n",
    "        --------\n",
    "        Example 1:\n",
    "        Input: 121\n",
    "        Output: true\n",
    "\n",
    "        Example 2:\n",
    "        Input: -121\n",
    "        Output: false\n",
    "        Explanation: From left to right, it reads -121. From right to left, it becomes 121-. Therefore it is not a palindrome.\n",
    "\n",
    "        Example 3:\n",
    "        Input: 10\n",
    "        Output: false\n",
    "        Explanation: Reads 01 from right to left. Therefore it is not a palindrome.\n",
    "        \"\"\"\n",
    "        \n",
    "        if x == 0:\n",
    "            return True\n",
    "        \n",
    "        elif x > 0:\n",
    "            rev = 0\n",
    "            value = x\n",
    "            while value > 0:\n",
    "                rev = (10*rev) + value%10 #(Modulus(%) Divides and returns the value of the remainder.)\n",
    "                value //= 10 #(reduces the number from 123 -> 12 -> 1)\n",
    "            return True if x == rev else False\n",
    "        \n",
    "        elif x < 0:\n",
    "            return False\n",
    "        \n",
    "        else:\n",
    "            return 0"
   ]
  },
  {
   "cell_type": "code",
   "execution_count": 7,
   "metadata": {
    "execution": {
     "iopub.execute_input": "2020-05-04T18:45:19.157429Z",
     "iopub.status.busy": "2020-05-04T18:45:19.157333Z",
     "iopub.status.idle": "2020-05-04T18:45:19.157947Z",
     "shell.execute_reply": "2020-05-04T18:45:19.157845Z",
     "shell.execute_reply.started": "2020-05-04T18:45:19.157406Z"
    }
   },
   "outputs": [
    {
     "data": {
      "text/plain": [
       "False"
      ]
     },
     "execution_count": 7,
     "metadata": {},
     "output_type": "execute_result"
    }
   ],
   "source": [
    "question_3_1 = Solution()\n",
    "question_3_1.isPalindrome(-121)"
   ]
  },
  {
   "cell_type": "markdown",
   "metadata": {},
   "source": [
    "Question 4: Given a roman numeral, convert it to an integer. Input is guaranteed to be within the range from 1 to 3999."
   ]
  },
  {
   "cell_type": "code",
   "execution_count": 8,
   "metadata": {
    "execution": {
     "iopub.execute_input": "2020-05-04T18:45:19.158236Z",
     "iopub.status.busy": "2020-05-04T18:45:19.158153Z",
     "iopub.status.idle": "2020-05-04T18:45:19.159104Z",
     "shell.execute_reply": "2020-05-04T18:45:19.158985Z",
     "shell.execute_reply.started": "2020-05-04T18:45:19.158216Z"
    }
   },
   "outputs": [],
   "source": [
    "class Solution:\n",
    "    def romanToInt(self, s: str) -> int:\n",
    "        \"\"\"\n",
    "        Takes in a roman numeral in string and returns the int equivalent of it. We start off by creating dictonary of all the possible letters\n",
    "        from 1 to 3999. We then create two variables \"integer\" and \"i\" starting with 0. The integer variable will always be equal to 0 to start with.\n",
    "        The variable i is used to flag when we have exhausted all our values in the s. In the first \"if statement\" we check if we  have doubles. \n",
    "        If we do, check if letter exists in doubles dictonary and add it to integer. If single value then check in single dictonary. Otherwise, you have\n",
    "        exhausted your loop. Exit. Roman numerals are usually written largest to smallest from left to right therefore we iterate from left to right.\n",
    "        \n",
    "        \n",
    "        Parameters:\n",
    "        --------\n",
    "        s: string of roman numbers\n",
    "\n",
    "        Returns:\n",
    "        --------\n",
    "        int: the integer equivalent of roman numbers\n",
    "        \n",
    "        \n",
    "        Examples\n",
    "        --------\n",
    "        Example 1:\n",
    "        Input: \"III\"\n",
    "        Output: 3\n",
    "        \n",
    "        Example 2:\n",
    "        Input: \"IV\"\n",
    "        Output: 4\n",
    "        \n",
    "        Example 3:\n",
    "        Input: \"IX\"\n",
    "        Output: 9\n",
    "        \n",
    "        Example 4:\n",
    "        Input: \"LVIII\"\n",
    "        Output: 58\n",
    "        Explanation: L = 50, V= 5, III = 3.\n",
    "        \n",
    "        Example 5:\n",
    "        Input: \"MCMXCIV\"\n",
    "        Output: 1994\n",
    "        Explanation: M = 1000, CM = 900, XC = 90 and IV = 4.\n",
    "            \n",
    "        \"\"\"\n",
    "        \n",
    "        doubles = {\"CM\": 900, \"CD\": 400, \"XC\":90, \"XL\": 40, \"IX\": 9, \"IV\":4}\n",
    "        singles = {\"M\": 1000, \"D\": 500, \"C\":100, \"L\":50, \"X\":10, \"V\":5, \"I\": 1}\n",
    "        \n",
    "        integer = 0\n",
    "        i = 0\n",
    "        \n",
    "        while i < len(s):\n",
    "            print(i)\n",
    "            if i < len(s)-1 and s[i:i+2] in doubles:\n",
    "                integer += doubles[s[i:i+2]]\n",
    "                i +=2\n",
    "                \n",
    "            else:\n",
    "                integer += singles[s[i]]\n",
    "                i += 1\n",
    "        return integer "
   ]
  },
  {
   "cell_type": "code",
   "execution_count": 9,
   "metadata": {
    "execution": {
     "iopub.execute_input": "2020-05-04T18:45:19.159404Z",
     "iopub.status.busy": "2020-05-04T18:45:19.159307Z",
     "iopub.status.idle": "2020-05-04T18:45:19.160506Z",
     "shell.execute_reply": "2020-05-04T18:45:19.160409Z",
     "shell.execute_reply.started": "2020-05-04T18:45:19.159381Z"
    }
   },
   "outputs": [
    {
     "name": "stdout",
     "output_type": "stream",
     "text": [
      "0\n",
      "1\n",
      "2\n"
     ]
    },
    {
     "data": {
      "text/plain": [
       "3"
      ]
     },
     "execution_count": 9,
     "metadata": {},
     "output_type": "execute_result"
    }
   ],
   "source": [
    "question_3_1 = Solution()\n",
    "question_3_1.romanToInt(\"III\")"
   ]
  },
  {
   "cell_type": "code",
   "execution_count": null,
   "metadata": {},
   "outputs": [],
   "source": []
  }
 ],
 "metadata": {
  "kernelspec": {
   "display_name": "xpython",
   "language": "python",
   "name": "xpython"
  },
  "language_info": {
   "file_extension": ".py",
   "mimetype": "text/x-python",
   "name": "python",
   "version": "3.7.6"
  }
 },
 "nbformat": 4,
 "nbformat_minor": 4
}
