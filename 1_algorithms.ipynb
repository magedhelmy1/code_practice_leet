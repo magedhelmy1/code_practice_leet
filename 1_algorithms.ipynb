{
 "cells": [
  {
   "cell_type": "markdown",
   "metadata": {
    "execution": {
     "iopub.execute_input": "2020-05-03T16:41:03.591892Z",
     "iopub.status.busy": "2020-05-03T16:41:03.591814Z",
     "iopub.status.idle": "2020-05-03T16:41:03.663358Z",
     "shell.execute_reply": "2020-05-03T16:41:03.663226Z",
     "shell.execute_reply.started": "2020-05-03T16:41:03.591878Z"
    }
   },
   "source": [
    "<h1> Algorithms 1 </h1>"
   ]
  },
  {
   "cell_type": "markdown",
   "metadata": {},
   "source": [
    "<p> Question 1: Given an array of integers, return indices of the two numbers such that they add up to a specific target. You may assume that each input would have exactly one solution, and you may not use the same element twice. <p>"
   ]
  },
  {
   "cell_type": "code",
   "execution_count": 34,
   "metadata": {
    "execution": {
     "iopub.execute_input": "2020-05-03T17:51:31.902934Z",
     "iopub.status.busy": "2020-05-03T17:51:31.902837Z",
     "iopub.status.idle": "2020-05-03T17:51:31.903700Z",
     "shell.execute_reply": "2020-05-03T17:51:31.903632Z",
     "shell.execute_reply.started": "2020-05-03T17:51:31.902920Z"
    }
   },
   "outputs": [],
   "source": [
    "from typing import List\n",
    "\n",
    "class Solution_1:\n",
    "    def twoSum(self, nums: List[int], target: int) -> List[int]:\n",
    "    \"\"\"Takes in a list and a target value and returns the index of values that add up to the target.\n",
    "    This uses 2 for loops so is very slow.\n",
    "\n",
    "    Parameters:\n",
    "    nums List[int]: List of Integers\n",
    "\n",
    "    Returns:\n",
    "    target [int]: returns [index1,index2]\n",
    "\n",
    "   \"\"\"\n",
    "        for i,x in enumerate(nums):\n",
    "            for j,y in enumerate(nums):\n",
    "                if i != j and x + y == target:\n",
    "                    return [i,j]\n",
    "                \n",
    "class Solution_2:\n",
    "    def twoSum(self, nums: List[int], target: int) -> List[int]:\n",
    "    \"\"\"Takes in a list and a target value and returns the index of values that add up to the target.\n",
    "    The first loop holds the index and value in i and num_1 respectively. The num_1 is subtracted \n",
    "    from the target value, creating num_2. num_2 checks the dictionary if it exists there. If not,\n",
    "    num_1 is added to the dictonary and the loop goes on. The goal is to get \"num_2\" from the list.\n",
    "    Returning [not_seen[num_2], i], instead of [not_seen[num_2], not_seen[num_1]], ensures that the \n",
    "    same value is not returned.\n",
    "\n",
    "    Parameters:\n",
    "    nums List[int]: List of Integers\n",
    "\n",
    "    Returns:\n",
    "    target [int]: returns [index1,index2]\n",
    "\n",
    "   \"\"\"\n",
    "        \n",
    "        not_seen = {}\n",
    "        for i, num_1 in enumerate(nums):\n",
    "            num_2 = target - num_1\n",
    "            \n",
    "            if num_2 not in not_seen:\n",
    "                not_seen[num_1] = i\n",
    "            else:\n",
    "                return [not_seen[num_2], i]\n"
   ]
  },
  {
   "cell_type": "code",
   "execution_count": 35,
   "metadata": {
    "execution": {
     "iopub.execute_input": "2020-05-03T17:51:32.100861Z",
     "iopub.status.busy": "2020-05-03T17:51:32.100786Z",
     "iopub.status.idle": "2020-05-03T17:51:32.101264Z",
     "shell.execute_reply": "2020-05-03T17:51:32.101217Z",
     "shell.execute_reply.started": "2020-05-03T17:51:32.100848Z"
    }
   },
   "outputs": [
    {
     "data": {
      "text/plain": [
       "[0, 1]"
      ]
     },
     "execution_count": 35,
     "metadata": {},
     "output_type": "execute_result"
    }
   ],
   "source": [
    "question_1_1 = Solution_1()\n",
    "\n",
    "question_1.twoSum([3,3], target = 6)"
   ]
  },
  {
   "cell_type": "code",
   "execution_count": 36,
   "metadata": {
    "execution": {
     "iopub.execute_input": "2020-05-03T17:51:32.323927Z",
     "iopub.status.busy": "2020-05-03T17:51:32.323850Z",
     "iopub.status.idle": "2020-05-03T17:51:32.324378Z",
     "shell.execute_reply": "2020-05-03T17:51:32.324313Z",
     "shell.execute_reply.started": "2020-05-03T17:51:32.323913Z"
    }
   },
   "outputs": [
    {
     "data": {
      "text/plain": [
       "[0, 1]"
      ]
     },
     "execution_count": 36,
     "metadata": {},
     "output_type": "execute_result"
    }
   ],
   "source": [
    "question_1_2 = Solution_2()\n",
    "\n",
    "question_1_2.twoSum([2,7,11,15], target = 9)"
   ]
  },
  {
   "cell_type": "markdown",
   "metadata": {
    "execution": {
     "iopub.execute_input": "2020-05-03T18:06:39.555402Z",
     "iopub.status.busy": "2020-05-03T18:06:39.555326Z",
     "iopub.status.idle": "2020-05-03T18:06:39.556068Z",
     "shell.execute_reply": "2020-05-03T18:06:39.555996Z",
     "shell.execute_reply.started": "2020-05-03T18:06:39.555387Z"
    }
   },
   "source": [
    "<p> Question 2: Given a 32-bit signed integer, reverse digits of an integer. <p>"
   ]
  },
  {
   "cell_type": "markdown",
   "metadata": {},
   "source": []
  }
 ],
 "metadata": {
  "kernelspec": {
   "display_name": "xpython",
   "language": "python",
   "name": "xpython"
  },
  "language_info": {
   "file_extension": ".py",
   "mimetype": "text/x-python",
   "name": "python",
   "version": "3.7.6"
  }
 },
 "nbformat": 4,
 "nbformat_minor": 4
}
