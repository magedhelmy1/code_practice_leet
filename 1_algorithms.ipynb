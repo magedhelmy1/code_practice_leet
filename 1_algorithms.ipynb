{
 "cells": [
  {
   "cell_type": "code",
   "execution_count": 1,
   "metadata": {
    "execution": {
     "iopub.execute_input": "2020-05-05T19:19:53.497446Z",
     "iopub.status.busy": "2020-05-05T19:19:53.497376Z",
     "iopub.status.idle": "2020-05-05T19:19:53.500384Z",
     "shell.execute_reply": "2020-05-05T19:19:53.500305Z",
     "shell.execute_reply.started": "2020-05-05T19:19:53.497432Z"
    }
   },
   "outputs": [],
   "source": [
    "from typing import List"
   ]
  },
  {
   "cell_type": "markdown",
   "metadata": {},
   "source": [
    "<h1> Algorithms 1 </h1>"
   ]
  },
  {
   "cell_type": "markdown",
   "metadata": {},
   "source": [
    "<p> Question 1: Two Sum - Given an array of integers, return indices of the two numbers such that they add up to a specific target. You may assume that each input would have exactly one solution, and you may not use the same element twice. <p>"
   ]
  },
  {
   "cell_type": "code",
   "execution_count": 2,
   "metadata": {
    "execution": {
     "iopub.execute_input": "2020-05-05T19:19:53.500574Z",
     "iopub.status.busy": "2020-05-05T19:19:53.500521Z",
     "iopub.status.idle": "2020-05-05T19:19:53.501165Z",
     "shell.execute_reply": "2020-05-05T19:19:53.501104Z",
     "shell.execute_reply.started": "2020-05-05T19:19:53.500562Z"
    }
   },
   "outputs": [],
   "source": [
    "class Solution_1:\n",
    "    def twoSum(self, nums: List[int], target: int) -> List[int]:\n",
    "        \n",
    "        \"\"\"\n",
    "        Takes in a list and a target value and returns the index of values that add up to the target.\n",
    "        This uses 2 for loops so is very slow.\n",
    "\n",
    "        Parameters:\n",
    "        --------\n",
    "        nums List[int]: List of Integers\n",
    "\n",
    "        Returns:\n",
    "        --------\n",
    "        target [int]: returns [index1,index2]\n",
    "        \n",
    "        Examples:\n",
    "        --------\n",
    "        Given nums = [2, 7, 11, 15], target = 9,\n",
    "\n",
    "        Because nums[0] + nums[1] = 2 + 7 = 9,\n",
    "        return [0, 1].\n",
    "\n",
    "        \"\"\"\n",
    "        for i,x in enumerate(nums):\n",
    "            for j,y in enumerate(nums):\n",
    "                if i != j and x + y == target:\n",
    "                    return [i,j]\n",
    "                \n",
    "class Solution_2:\n",
    "    def twoSum(self, nums: List[int], target: int) -> List[int]:\n",
    "        \"\"\"\n",
    "        Takes in a list and a target value and returns the index of values that add up to the target.\n",
    "        The first loop holds the index and value in i and num_1 respectively. The num_1 is subtracted \n",
    "        from the target value, creating num_2. num_2 checks the dictionary if it exists there. If not,\n",
    "        num_1 is added to the dictonary and the loop goes on. The goal is to get \"num_2\" from the list.\n",
    "        Returning [not_seen[num_2], i], instead of [not_seen[num_2], not_seen[num_1]], ensures that the \n",
    "        same value is not returned.\n",
    "\n",
    "        Parameters:\n",
    "        --------\n",
    "        nums List[int]: List of Integers\n",
    "\n",
    "        Returns:\n",
    "        --------\n",
    "        target [int]: returns [index1,index2]\n",
    "        \"\"\"\n",
    "        \n",
    "        not_seen = {}\n",
    "        for i, num_1 in enumerate(nums):\n",
    "            num_2 = target - num_1\n",
    "            \n",
    "            if num_2 not in not_seen:\n",
    "                not_seen[num_1] = i\n",
    "            else:\n",
    "                return [not_seen[num_2], i]\n"
   ]
  },
  {
   "cell_type": "code",
   "execution_count": 3,
   "metadata": {
    "execution": {
     "iopub.execute_input": "2020-05-05T19:19:53.501316Z",
     "iopub.status.busy": "2020-05-05T19:19:53.501264Z",
     "iopub.status.idle": "2020-05-05T19:19:53.501631Z",
     "shell.execute_reply": "2020-05-05T19:19:53.501593Z",
     "shell.execute_reply.started": "2020-05-05T19:19:53.501304Z"
    }
   },
   "outputs": [
    {
     "data": {
      "text/plain": [
       "[0, 1]"
      ]
     },
     "execution_count": 3,
     "metadata": {},
     "output_type": "execute_result"
    }
   ],
   "source": [
    "question_1_1 = Solution_1()\n",
    "\n",
    "question_1_1.twoSum([3,3], target = 6)"
   ]
  },
  {
   "cell_type": "code",
   "execution_count": 4,
   "metadata": {
    "execution": {
     "iopub.execute_input": "2020-05-05T19:19:53.501781Z",
     "iopub.status.busy": "2020-05-05T19:19:53.501728Z",
     "iopub.status.idle": "2020-05-05T19:19:53.502080Z",
     "shell.execute_reply": "2020-05-05T19:19:53.502037Z",
     "shell.execute_reply.started": "2020-05-05T19:19:53.501769Z"
    }
   },
   "outputs": [
    {
     "data": {
      "text/plain": [
       "[0, 1]"
      ]
     },
     "execution_count": 4,
     "metadata": {},
     "output_type": "execute_result"
    }
   ],
   "source": [
    "question_1_2 = Solution_2()\n",
    "\n",
    "question_1_2.twoSum([2,7,11,15], target = 9)"
   ]
  },
  {
   "cell_type": "markdown",
   "metadata": {
    "execution": {
     "iopub.execute_input": "2020-05-04T17:45:42.718370Z",
     "iopub.status.busy": "2020-05-04T17:45:42.717420Z",
     "iopub.status.idle": "2020-05-04T17:45:42.430329Z",
     "shell.execute_reply": "2020-05-04T17:45:42.227095Z",
     "shell.execute_reply.started": "2020-05-04T17:45:42.71815Z"
    }
   },
   "source": [
    "<p> Question 2: 7. Reverse Integer - Given a 32-bit signed integer, reverse digits of an integer. <p>"
   ]
  },
  {
   "cell_type": "code",
   "execution_count": 5,
   "metadata": {
    "execution": {
     "iopub.execute_input": "2020-05-05T19:19:53.502242Z",
     "iopub.status.busy": "2020-05-05T19:19:53.502190Z",
     "iopub.status.idle": "2020-05-05T19:19:53.502624Z",
     "shell.execute_reply": "2020-05-05T19:19:53.502567Z",
     "shell.execute_reply.started": "2020-05-05T19:19:53.502229Z"
    }
   },
   "outputs": [],
   "source": [
    "class Solution:\n",
    "    def reverse(self, x: int) -> int:\n",
    "        \n",
    "        \"\"\"\n",
    "        Takes in a positive or negative integer.The defination first checks if it is greater than or less than zero.\n",
    "        If less than zero, convert it to positive value. If positive value keep as is.  To convert to integer, we first\n",
    "        convert it to a string, use pythonic reverse function and multiply it by -1 in case of negative, keep as is in\n",
    "        case of positive. We use int (get rid of any trailing zeros)-> str (convert to string to reverse)-> int \n",
    "        (get rid of any trailing zeros)\n",
    "        \n",
    "        Parameters:\n",
    "        --------\n",
    "        x: int value(s)\n",
    "\n",
    "        Returns:\n",
    "        --------\n",
    "        int: int value(s)\n",
    "        \n",
    "        Examples:\n",
    "        --------\n",
    "        Example 1:\n",
    "        Input: 123\n",
    "        Output: 321\n",
    "        \n",
    "        Example 2:\n",
    "        Input: -123\n",
    "        Output: -321\n",
    "        \n",
    "        Example 3:\n",
    "        Input: 120\n",
    "        Output: 21\n",
    "        \"\"\"\n",
    "        \n",
    "        \n",
    "        if x < 0:\n",
    "            neg_value = -1*int(str(x*-1)[::-1])\n",
    "            return neg_value if neg_value.bit_length()<= 31 else 0\n",
    "                 \n",
    "               \n",
    "        elif x >= 0:\n",
    "            pos_value = int(str(int(x))[::-1])\n",
    "            return pos_value if pos_value.bit_length() <= 31 else 0\n",
    "\n",
    "        else:\n",
    "            return 0"
   ]
  },
  {
   "cell_type": "code",
   "execution_count": 6,
   "metadata": {
    "execution": {
     "iopub.execute_input": "2020-05-05T19:19:53.502776Z",
     "iopub.status.busy": "2020-05-05T19:19:53.502723Z",
     "iopub.status.idle": "2020-05-05T19:19:53.503061Z",
     "shell.execute_reply": "2020-05-05T19:19:53.503023Z",
     "shell.execute_reply.started": "2020-05-05T19:19:53.502764Z"
    }
   },
   "outputs": [
    {
     "data": {
      "text/plain": [
       "0"
      ]
     },
     "execution_count": 6,
     "metadata": {},
     "output_type": "execute_result"
    }
   ],
   "source": [
    "question_2_1 = Solution()\n",
    "question_2_1.reverse(-1534236469)"
   ]
  },
  {
   "cell_type": "markdown",
   "metadata": {},
   "source": [
    "Question 3: Determine whether an integer is a palindrome. An integer is a palindrome when it reads the same backward as forward."
   ]
  },
  {
   "cell_type": "code",
   "execution_count": 7,
   "metadata": {
    "execution": {
     "iopub.execute_input": "2020-05-05T19:19:53.503229Z",
     "iopub.status.busy": "2020-05-05T19:19:53.503175Z",
     "iopub.status.idle": "2020-05-05T19:19:53.503598Z",
     "shell.execute_reply": "2020-05-05T19:19:53.503536Z",
     "shell.execute_reply.started": "2020-05-05T19:19:53.503217Z"
    }
   },
   "outputs": [],
   "source": [
    "class Solution:\n",
    "\n",
    "    def isPalindrome(self, x: int) -> bool:\n",
    "        \"\"\"\n",
    "        Takes in a positive or negative integer and determines whether the integer is a palindrome, We use modulus % to get the value of the remainder.\n",
    "        and divide by 10 to move to the next value. Such as, dividing the number by 10, gives back the last number and takes the first position. I then\n",
    "        shuffle to the next number and append it and so on. So we inverse the input value 123 -> 3, 32 , 321.\n",
    "        \n",
    "        Parameters:\n",
    "        --------\n",
    "        x: int value(s)\n",
    "\n",
    "        Returns:\n",
    "        --------\n",
    "        bool: True\n",
    "        \n",
    "        Examples\n",
    "        --------\n",
    "        Example 1:\n",
    "        Input: 121\n",
    "        Output: true\n",
    "\n",
    "        Example 2:\n",
    "        Input: -121\n",
    "        Output: false\n",
    "        Explanation: From left to right, it reads -121. From right to left, it becomes 121-. Therefore it is not a palindrome.\n",
    "\n",
    "        Example 3:\n",
    "        Input: 10\n",
    "        Output: false\n",
    "        Explanation: Reads 01 from right to left. Therefore it is not a palindrome.\n",
    "        \"\"\"\n",
    "        \n",
    "        if x == 0:\n",
    "            return True\n",
    "        \n",
    "        elif x > 0:\n",
    "            rev = 0\n",
    "            value = x\n",
    "            while value > 0:\n",
    "                rev = (10*rev) + value%10 #(Modulus(%) Divides and returns the value of the remainder.)\n",
    "                value //= 10 #(reduces the number from 123 -> 12 -> 1)\n",
    "            return True if x == rev else False\n",
    "        \n",
    "        elif x < 0:\n",
    "            return False\n",
    "        \n",
    "        else:\n",
    "            return 0"
   ]
  },
  {
   "cell_type": "code",
   "execution_count": 8,
   "metadata": {
    "execution": {
     "iopub.execute_input": "2020-05-05T19:19:53.503748Z",
     "iopub.status.busy": "2020-05-05T19:19:53.503695Z",
     "iopub.status.idle": "2020-05-05T19:19:53.504072Z",
     "shell.execute_reply": "2020-05-05T19:19:53.504033Z",
     "shell.execute_reply.started": "2020-05-05T19:19:53.503734Z"
    }
   },
   "outputs": [
    {
     "data": {
      "text/plain": [
       "False"
      ]
     },
     "execution_count": 8,
     "metadata": {},
     "output_type": "execute_result"
    }
   ],
   "source": [
    "question_3_1 = Solution()\n",
    "question_3_1.isPalindrome(-121)"
   ]
  },
  {
   "cell_type": "markdown",
   "metadata": {},
   "source": [
    "Question 4: Given a roman numeral, convert it to an integer. Input is guaranteed to be within the range from 1 to 3999."
   ]
  },
  {
   "cell_type": "code",
   "execution_count": 9,
   "metadata": {
    "execution": {
     "iopub.execute_input": "2020-05-05T19:19:53.504247Z",
     "iopub.status.busy": "2020-05-05T19:19:53.504195Z",
     "iopub.status.idle": "2020-05-05T19:19:53.504754Z",
     "shell.execute_reply": "2020-05-05T19:19:53.504688Z",
     "shell.execute_reply.started": "2020-05-05T19:19:53.504235Z"
    }
   },
   "outputs": [],
   "source": [
    "class Solution:\n",
    "    def romanToInt(self, s: str) -> int:\n",
    "        \"\"\"\n",
    "        Takes in a roman numeral in string and returns the int equivalent of it. We start off by creating dictonary of all the possible letters\n",
    "        from 1 to 3999. We then create two variables \"integer\" and \"i\" starting with 0. The integer variable will always be equal to 0 to start with.\n",
    "        The variable i is used to flag when we have exhausted all our values in the s. In the first \"if statement\" we check if we  have doubles. \n",
    "        If we do, check if letter exists in doubles dictonary and add it to integer. If single value then check in single dictonary. Otherwise, you have\n",
    "        exhausted your loop. Exit. Roman numerals are usually written largest to smallest from left to right therefore we iterate from left to right.\n",
    "        \n",
    "        \n",
    "        Parameters:\n",
    "        --------\n",
    "        s: string of roman numbers\n",
    "\n",
    "        Returns:\n",
    "        --------\n",
    "        int: the integer equivalent of roman numbers\n",
    "        \n",
    "        \n",
    "        Examples\n",
    "        --------\n",
    "        Example 1:\n",
    "        Input: \"III\"\n",
    "        Output: 3\n",
    "        \n",
    "        Example 2:\n",
    "        Input: \"IV\"\n",
    "        Output: 4\n",
    "        \n",
    "        Example 3:\n",
    "        Input: \"IX\"\n",
    "        Output: 9\n",
    "        \n",
    "        Example 4:\n",
    "        Input: \"LVIII\"\n",
    "        Output: 58\n",
    "        Explanation: L = 50, V= 5, III = 3.\n",
    "        \n",
    "        Example 5:\n",
    "        Input: \"MCMXCIV\"\n",
    "        Output: 1994\n",
    "        Explanation: M = 1000, CM = 900, XC = 90 and IV = 4.\n",
    "            \n",
    "        \"\"\"\n",
    "        \n",
    "        doubles = {\"CM\": 900, \"CD\": 400, \"XC\":90, \"XL\": 40, \"IX\": 9, \"IV\":4}\n",
    "        singles = {\"M\": 1000, \"D\": 500, \"C\":100, \"L\":50, \"X\":10, \"V\":5, \"I\": 1}\n",
    "        \n",
    "        integer = 0\n",
    "        i = 0\n",
    "        \n",
    "        while i < len(s):\n",
    "            print(i)\n",
    "            if i < len(s)-1 and s[i:i+2] in doubles:\n",
    "                integer += doubles[s[i:i+2]]\n",
    "                i +=2\n",
    "                \n",
    "            else:\n",
    "                integer += singles[s[i]]\n",
    "                i += 1\n",
    "        return integer "
   ]
  },
  {
   "cell_type": "code",
   "execution_count": 10,
   "metadata": {
    "execution": {
     "iopub.execute_input": "2020-05-05T19:19:53.504930Z",
     "iopub.status.busy": "2020-05-05T19:19:53.504876Z",
     "iopub.status.idle": "2020-05-05T19:19:53.505555Z",
     "shell.execute_reply": "2020-05-05T19:19:53.505501Z",
     "shell.execute_reply.started": "2020-05-05T19:19:53.504918Z"
    }
   },
   "outputs": [
    {
     "name": "stdout",
     "output_type": "stream",
     "text": [
      "0\n",
      "1\n",
      "2\n"
     ]
    },
    {
     "data": {
      "text/plain": [
       "3"
      ]
     },
     "execution_count": 10,
     "metadata": {},
     "output_type": "execute_result"
    }
   ],
   "source": [
    "question_3_1 = Solution()\n",
    "question_3_1.romanToInt(\"III\")"
   ]
  },
  {
   "cell_type": "markdown",
   "metadata": {
    "execution": {
     "iopub.execute_input": "2020-05-05T18:31:12.626115Z",
     "iopub.status.busy": "2020-05-05T18:31:12.626034Z",
     "iopub.status.idle": "2020-05-05T18:31:12.780780Z",
     "shell.execute_reply": "2020-05-05T18:31:12.780556Z",
     "shell.execute_reply.started": "2020-05-05T18:31:12.626100Z"
    }
   },
   "source": [
    "<p> Question 5: Write a function to find the longest common prefix string amongst an array of strings.If there is no common prefix, return an empty string \"\". </p>"
   ]
  },
  {
   "cell_type": "code",
   "execution_count": 11,
   "metadata": {
    "execution": {
     "iopub.execute_input": "2020-05-05T19:19:53.505724Z",
     "iopub.status.busy": "2020-05-05T19:19:53.505673Z",
     "iopub.status.idle": "2020-05-05T19:19:53.506165Z",
     "shell.execute_reply": "2020-05-05T19:19:53.506106Z",
     "shell.execute_reply.started": "2020-05-05T19:19:53.505711Z"
    }
   },
   "outputs": [],
   "source": [
    "class Solution:\n",
    "    def longestCommonPrefix(self, strs: List[str]) -> str:\n",
    "        \"\"\"\n",
    "        We take in a list of string, sort it out in alphatecial order. We then compare the first and last together,\n",
    "        since this will cover everything else in between. We then return the position/index of i, ones the condition\n",
    "        in the while loop is no longer satisfied which is \"i < len(first) and i < len(last) and first[i] == last[i]\".\n",
    "        Other methods includ Horizontal scanning, Vertical Scanning, Divide and Conquer, Binary Search.\n",
    "\n",
    "        Parameters:\n",
    "        --------\n",
    "        strs: takes in a list of integers\n",
    "\n",
    "        Returns:\n",
    "        --------\n",
    "        str: returns a string\n",
    "\n",
    "        Examples:\n",
    "        --------\n",
    "        Example 1:\n",
    "\n",
    "        Input: [\"flower\",\"flow\",\"flight\"]\n",
    "        Output: \"fl\"\n",
    "        Example 2:\n",
    "\n",
    "        Input: [\"dog\",\"racecar\",\"car\"]\n",
    "        Output: \"\"\n",
    "        Explanation: There is no common prefix among the input strings.  \n",
    "        \"\"\" \n",
    "        \n",
    "        #Catch if list is empty\n",
    "        \n",
    "        if not strs:\n",
    "            return \"\"\n",
    "        \n",
    "        # we sorted it out, and compare the first and last. What occurs in both will then occur in all of them.\n",
    "        strs = sorted(strs)\n",
    "        first = strs[0]\n",
    "        last = strs[-1]\n",
    "        \n",
    "        i= 0\n",
    "        while i < len(first) and i < len(last) and first[i] == last[i]:\n",
    "            i += 1\n",
    "            \n",
    "        return first[:i]"
   ]
  },
  {
   "cell_type": "code",
   "execution_count": 12,
   "metadata": {
    "execution": {
     "iopub.execute_input": "2020-05-05T19:19:53.506319Z",
     "iopub.status.busy": "2020-05-05T19:19:53.506267Z",
     "iopub.status.idle": "2020-05-05T19:19:53.506625Z",
     "shell.execute_reply": "2020-05-05T19:19:53.506586Z",
     "shell.execute_reply.started": "2020-05-05T19:19:53.506307Z"
    }
   },
   "outputs": [
    {
     "data": {
      "text/plain": [
       "'fl'"
      ]
     },
     "execution_count": 12,
     "metadata": {},
     "output_type": "execute_result"
    }
   ],
   "source": [
    "question_3_1 = Solution()\n",
    "question_3_1.longestCommonPrefix([\"flower\",\"flow\",\"flight\"])"
   ]
  },
  {
   "cell_type": "markdown",
   "metadata": {
    "execution": {
     "iopub.execute_input": "2020-05-05T19:00:21.317631Z",
     "iopub.status.busy": "2020-05-05T19:00:21.317537Z",
     "iopub.status.idle": "2020-05-05T19:00:21.319225Z",
     "shell.execute_reply": "2020-05-05T19:00:21.319157Z",
     "shell.execute_reply.started": "2020-05-05T19:00:21.317614Z"
    }
   },
   "source": [
    "<p> Question 6: Valid Parentheses - Given a string containing just the characters '(', ')', '{', '}', '[' and ']', determine if the input string is valid. An input string is valid if:\n",
    "- Open brackets must be closed by the same type of brackets.\n",
    "- Open brackets must be closed in the correct order.\n",
    "- Note that an empty string is also considered valid.\n",
    "</p>"
   ]
  },
  {
   "cell_type": "code",
   "execution_count": 13,
   "metadata": {
    "execution": {
     "iopub.execute_input": "2020-05-05T19:19:53.506789Z",
     "iopub.status.busy": "2020-05-05T19:19:53.506738Z",
     "iopub.status.idle": "2020-05-05T19:19:53.507110Z",
     "shell.execute_reply": "2020-05-05T19:19:53.507049Z",
     "shell.execute_reply.started": "2020-05-05T19:19:53.506777Z"
    }
   },
   "outputs": [],
   "source": [
    "class Solution:\n",
    "    def isValid(self, s: str) -> bool:\n",
    "        \"\"\"\n",
    "        Takes in a string of parameters. And recursively replaces them with empty space if they fit the while rule \n",
    "        \"while \"()\" in s or \"{}\" in s or \"[]\" in s:\", if the string is empty it will return True or otherwise false.\n",
    "\n",
    "        Parameters:\n",
    "        --------\n",
    "        strs: takes in a list of integers\n",
    "\n",
    "        Returns:\n",
    "        --------\n",
    "        str: returns a string\n",
    "\n",
    "        Examples:\n",
    "        --------\n",
    "        Example 1:\n",
    "        Input: \"()\"\n",
    "        Output: true\n",
    "        \n",
    "        Example 2:\n",
    "        Input: \"()[]{}\"\n",
    "        Output: true\n",
    "        \n",
    "        Example 3:\n",
    "        Input: \"(]\"\n",
    "        Output: false\n",
    "        \n",
    "        Example 4:\n",
    "        Input: \"([)]\"\n",
    "        Output: false\n",
    "        \n",
    "        Example 5:\n",
    "        Input: \"{[]}\"\n",
    "        Output: true\n",
    "        \"\"\"\n",
    "        \n",
    "        while \"()\" in s or \"{}\" in s or \"[]\" in s:\n",
    "            s= s.replace(\"()\", \"\").replace(\"{}\",\"\").replace(\"[]\",\"\")\n",
    "            \n",
    "        return s == \"\"\n",
    "        \n",
    "        \n",
    "        \n",
    "        "
   ]
  },
  {
   "cell_type": "code",
   "execution_count": 14,
   "metadata": {
    "execution": {
     "iopub.execute_input": "2020-05-05T19:19:53.507260Z",
     "iopub.status.busy": "2020-05-05T19:19:53.507209Z",
     "iopub.status.idle": "2020-05-05T19:19:53.507550Z",
     "shell.execute_reply": "2020-05-05T19:19:53.507512Z",
     "shell.execute_reply.started": "2020-05-05T19:19:53.507248Z"
    }
   },
   "outputs": [
    {
     "data": {
      "text/plain": [
       "True"
      ]
     },
     "execution_count": 14,
     "metadata": {},
     "output_type": "execute_result"
    }
   ],
   "source": [
    "question_6_1 = Solution()\n",
    "question_6_1.isValid(\"{}\")"
   ]
  },
  {
   "cell_type": "code",
   "execution_count": null,
   "metadata": {},
   "outputs": [],
   "source": []
  }
 ],
 "metadata": {
  "kernelspec": {
   "display_name": "xpython",
   "language": "python",
   "name": "xpython"
  },
  "language_info": {
   "file_extension": ".py",
   "mimetype": "text/x-python",
   "name": "python",
   "version": "3.7.6"
  }
 },
 "nbformat": 4,
 "nbformat_minor": 4
}
