{
 "cells": [
  {
   "cell_type": "code",
   "execution_count": 1,
   "metadata": {
    "execution": {
     "iopub.execute_input": "2020-05-06T18:16:20.862054Z",
     "iopub.status.busy": "2020-05-06T18:16:20.861978Z",
     "iopub.status.idle": "2020-05-06T18:16:20.865052Z",
     "shell.execute_reply": "2020-05-06T18:16:20.864936Z",
     "shell.execute_reply.started": "2020-05-06T18:16:20.862039Z"
    }
   },
   "outputs": [],
   "source": [
    "from typing import List"
   ]
  },
  {
   "cell_type": "markdown",
   "metadata": {},
   "source": [
    "<h1> Algorithms 1 </h1>"
   ]
  },
  {
   "cell_type": "markdown",
   "metadata": {},
   "source": [
    "<p> Question 1: Two Sum - Given an array of integers, return indices of the two numbers such that they add up to a specific target. You may assume that each input would have exactly one solution, and you may not use the same element twice. <p>"
   ]
  },
  {
   "cell_type": "code",
   "execution_count": 2,
   "metadata": {
    "execution": {
     "iopub.execute_input": "2020-05-06T18:16:20.865252Z",
     "iopub.status.busy": "2020-05-06T18:16:20.865197Z",
     "iopub.status.idle": "2020-05-06T18:16:20.865933Z",
     "shell.execute_reply": "2020-05-06T18:16:20.865853Z",
     "shell.execute_reply.started": "2020-05-06T18:16:20.865239Z"
    }
   },
   "outputs": [],
   "source": [
    "class Solution_1:\n",
    "    def twoSum(self, nums: List[int], target: int) -> List[int]:\n",
    "        \n",
    "        \"\"\"\n",
    "        Takes in a list and a target value and returns the index of values that add up to the target.\n",
    "        This uses 2 for loops so is very slow.\n",
    "\n",
    "        Parameters:\n",
    "        --------\n",
    "        nums List[int]: List of Integers\n",
    "\n",
    "        Returns:\n",
    "        --------\n",
    "        target [int]: returns [index1,index2]\n",
    "        \n",
    "        Examples:\n",
    "        --------\n",
    "        Given nums = [2, 7, 11, 15], target = 9,\n",
    "\n",
    "        Because nums[0] + nums[1] = 2 + 7 = 9,\n",
    "        return [0, 1].\n",
    "\n",
    "        \"\"\"\n",
    "        for i,x in enumerate(nums):\n",
    "            for j,y in enumerate(nums):\n",
    "                if i != j and x + y == target:\n",
    "                    return [i,j]\n",
    "                \n",
    "class Solution_2:\n",
    "    def twoSum(self, nums: List[int], target: int) -> List[int]:\n",
    "        \"\"\"\n",
    "        Takes in a list and a target value and returns the index of values that add up to the target.\n",
    "        The first loop holds the index and value in i and num_1 respectively. The num_1 is subtracted \n",
    "        from the target value, creating num_2. num_2 checks the dictionary if it exists there. If not,\n",
    "        num_1 is added to the dictonary and the loop goes on. The goal is to get \"num_2\" from the list.\n",
    "        Returning [not_seen[num_2], i], instead of [not_seen[num_2], not_seen[num_1]], ensures that the \n",
    "        same value is not returned.\n",
    "\n",
    "        Parameters:\n",
    "        --------\n",
    "        nums List[int]: List of Integers\n",
    "\n",
    "        Returns:\n",
    "        --------\n",
    "        target [int]: returns [index1,index2]\n",
    "        \"\"\"\n",
    "        \n",
    "        not_seen = {}\n",
    "        for i, num_1 in enumerate(nums):\n",
    "            num_2 = target - num_1\n",
    "            \n",
    "            if num_2 not in not_seen:\n",
    "                not_seen[num_1] = i\n",
    "            else:\n",
    "                return [not_seen[num_2], i]\n"
   ]
  },
  {
   "cell_type": "code",
   "execution_count": 3,
   "metadata": {
    "execution": {
     "iopub.execute_input": "2020-05-06T18:16:20.866146Z",
     "iopub.status.busy": "2020-05-06T18:16:20.866058Z",
     "iopub.status.idle": "2020-05-06T18:16:20.866650Z",
     "shell.execute_reply": "2020-05-06T18:16:20.866598Z",
     "shell.execute_reply.started": "2020-05-06T18:16:20.866123Z"
    }
   },
   "outputs": [
    {
     "data": {
      "text/plain": [
       "[0, 1]"
      ]
     },
     "execution_count": 3,
     "metadata": {},
     "output_type": "execute_result"
    }
   ],
   "source": [
    "question_1_1 = Solution_1()\n",
    "\n",
    "question_1_1.twoSum([3,3], target = 6)"
   ]
  },
  {
   "cell_type": "code",
   "execution_count": 4,
   "metadata": {
    "execution": {
     "iopub.execute_input": "2020-05-06T18:16:20.866906Z",
     "iopub.status.busy": "2020-05-06T18:16:20.866804Z",
     "iopub.status.idle": "2020-05-06T18:16:20.867294Z",
     "shell.execute_reply": "2020-05-06T18:16:20.867250Z",
     "shell.execute_reply.started": "2020-05-06T18:16:20.866882Z"
    }
   },
   "outputs": [
    {
     "data": {
      "text/plain": [
       "[0, 1]"
      ]
     },
     "execution_count": 4,
     "metadata": {},
     "output_type": "execute_result"
    }
   ],
   "source": [
    "question_1_2 = Solution_2()\n",
    "\n",
    "question_1_2.twoSum([2,7,11,15], target = 9)"
   ]
  },
  {
   "cell_type": "markdown",
   "metadata": {
    "execution": {
     "iopub.execute_input": "2020-05-04T17:45:42.718370Z",
     "iopub.status.busy": "2020-05-04T17:45:42.717420Z",
     "iopub.status.idle": "2020-05-04T17:45:42.430329Z",
     "shell.execute_reply": "2020-05-04T17:45:42.227095Z",
     "shell.execute_reply.started": "2020-05-04T17:45:42.71815Z"
    }
   },
   "source": [
    "<p> Question 2: Reverse Integer - Given a 32-bit signed integer, reverse digits of an integer. <p>"
   ]
  },
  {
   "cell_type": "code",
   "execution_count": 5,
   "metadata": {
    "execution": {
     "iopub.execute_input": "2020-05-06T18:16:20.867452Z",
     "iopub.status.busy": "2020-05-06T18:16:20.867402Z",
     "iopub.status.idle": "2020-05-06T18:16:20.867852Z",
     "shell.execute_reply": "2020-05-06T18:16:20.867790Z",
     "shell.execute_reply.started": "2020-05-06T18:16:20.867440Z"
    }
   },
   "outputs": [],
   "source": [
    "class Solution:\n",
    "    def reverse(self, x: int) -> int:\n",
    "        \n",
    "        \"\"\"\n",
    "        Takes in a positive or negative integer.The defination first checks if it is greater than or less than zero.\n",
    "        If less than zero, convert it to positive value. If positive value keep as is.  To convert to integer, we first\n",
    "        convert it to a string, use pythonic reverse function and multiply it by -1 in case of negative, keep as is in\n",
    "        case of positive. We use int (get rid of any trailing zeros)-> str (convert to string to reverse)-> int \n",
    "        (get rid of any trailing zeros)\n",
    "        \n",
    "        Parameters:\n",
    "        --------\n",
    "        x: int value(s)\n",
    "\n",
    "        Returns:\n",
    "        --------\n",
    "        int: int value(s)\n",
    "        \n",
    "        Examples:\n",
    "        --------\n",
    "        Example 1:\n",
    "        Input: 123\n",
    "        Output: 321\n",
    "        \n",
    "        Example 2:\n",
    "        Input: -123\n",
    "        Output: -321\n",
    "        \n",
    "        Example 3:\n",
    "        Input: 120\n",
    "        Output: 21\n",
    "        \"\"\"\n",
    "        \n",
    "        \n",
    "        if x < 0:\n",
    "            neg_value = -1*int(str(x*-1)[::-1])\n",
    "            return neg_value if neg_value.bit_length()<= 31 else 0\n",
    "                 \n",
    "               \n",
    "        elif x >= 0:\n",
    "            pos_value = int(str(int(x))[::-1])\n",
    "            return pos_value if pos_value.bit_length() <= 31 else 0\n",
    "\n",
    "        else:\n",
    "            return 0"
   ]
  },
  {
   "cell_type": "code",
   "execution_count": 6,
   "metadata": {
    "execution": {
     "iopub.execute_input": "2020-05-06T18:16:20.868020Z",
     "iopub.status.busy": "2020-05-06T18:16:20.867961Z",
     "iopub.status.idle": "2020-05-06T18:16:20.868333Z",
     "shell.execute_reply": "2020-05-06T18:16:20.868287Z",
     "shell.execute_reply.started": "2020-05-06T18:16:20.868007Z"
    }
   },
   "outputs": [
    {
     "data": {
      "text/plain": [
       "0"
      ]
     },
     "execution_count": 6,
     "metadata": {},
     "output_type": "execute_result"
    }
   ],
   "source": [
    "question_2_1 = Solution()\n",
    "question_2_1.reverse(-1534236469)"
   ]
  },
  {
   "cell_type": "markdown",
   "metadata": {},
   "source": [
    "Question 3: Palindrome Number - Determine whether an integer is a palindrome. An integer is a palindrome when it reads the same backward as forward."
   ]
  },
  {
   "cell_type": "code",
   "execution_count": 7,
   "metadata": {
    "execution": {
     "iopub.execute_input": "2020-05-06T18:16:20.868497Z",
     "iopub.status.busy": "2020-05-06T18:16:20.868447Z",
     "iopub.status.idle": "2020-05-06T18:16:20.868866Z",
     "shell.execute_reply": "2020-05-06T18:16:20.868804Z",
     "shell.execute_reply.started": "2020-05-06T18:16:20.868485Z"
    }
   },
   "outputs": [],
   "source": [
    "class Solution:\n",
    "\n",
    "    def isPalindrome(self, x: int) -> bool:\n",
    "        \"\"\"\n",
    "        Takes in a positive or negative integer and determines whether the integer is a palindrome, We use modulus % to get the value of the remainder.\n",
    "        and divide by 10 to move to the next value. Such as, dividing the number by 10, gives back the last number and takes the first position. I then\n",
    "        shuffle to the next number and append it and so on. So we inverse the input value 123 -> 3, 32 , 321.\n",
    "        \n",
    "        Parameters:\n",
    "        --------\n",
    "        x: int value(s)\n",
    "\n",
    "        Returns:\n",
    "        --------\n",
    "        bool: True\n",
    "        \n",
    "        Examples\n",
    "        --------\n",
    "        Example 1:\n",
    "        Input: 121\n",
    "        Output: true\n",
    "\n",
    "        Example 2:\n",
    "        Input: -121\n",
    "        Output: false\n",
    "        Explanation: From left to right, it reads -121. From right to left, it becomes 121-. Therefore it is not a palindrome.\n",
    "\n",
    "        Example 3:\n",
    "        Input: 10\n",
    "        Output: false\n",
    "        Explanation: Reads 01 from right to left. Therefore it is not a palindrome.\n",
    "        \"\"\"\n",
    "        \n",
    "        if x == 0:\n",
    "            return True\n",
    "        \n",
    "        elif x > 0:\n",
    "            rev = 0\n",
    "            value = x\n",
    "            while value > 0:\n",
    "                rev = (10*rev) + value%10 #(Modulus(%) Divides and returns the value of the remainder.)\n",
    "                value //= 10 #(reduces the number from 123 -> 12 -> 1)\n",
    "            return True if x == rev else False\n",
    "        \n",
    "        elif x < 0:\n",
    "            return False\n",
    "        \n",
    "        else:\n",
    "            return 0"
   ]
  },
  {
   "cell_type": "code",
   "execution_count": 8,
   "metadata": {
    "execution": {
     "iopub.execute_input": "2020-05-06T18:16:20.869023Z",
     "iopub.status.busy": "2020-05-06T18:16:20.868965Z",
     "iopub.status.idle": "2020-05-06T18:16:20.869315Z",
     "shell.execute_reply": "2020-05-06T18:16:20.869275Z",
     "shell.execute_reply.started": "2020-05-06T18:16:20.869009Z"
    }
   },
   "outputs": [
    {
     "data": {
      "text/plain": [
       "False"
      ]
     },
     "execution_count": 8,
     "metadata": {},
     "output_type": "execute_result"
    }
   ],
   "source": [
    "question_3_1 = Solution()\n",
    "question_3_1.isPalindrome(-121)"
   ]
  },
  {
   "cell_type": "markdown",
   "metadata": {},
   "source": [
    "Question 4: Roman to Integer - Given a roman numeral, convert it to an integer. Input is guaranteed to be within the range from 1 to 3999."
   ]
  },
  {
   "cell_type": "code",
   "execution_count": 9,
   "metadata": {
    "execution": {
     "iopub.execute_input": "2020-05-06T18:16:20.869500Z",
     "iopub.status.busy": "2020-05-06T18:16:20.869443Z",
     "iopub.status.idle": "2020-05-06T18:16:20.869992Z",
     "shell.execute_reply": "2020-05-06T18:16:20.869927Z",
     "shell.execute_reply.started": "2020-05-06T18:16:20.869488Z"
    }
   },
   "outputs": [],
   "source": [
    "class Solution:\n",
    "    def romanToInt(self, s: str) -> int:\n",
    "        \"\"\"\n",
    "        Takes in a roman numeral in string and returns the int equivalent of it. We start off by creating dictonary of all the possible letters\n",
    "        from 1 to 3999. We then create two variables \"integer\" and \"i\" starting with 0. The integer variable will always be equal to 0 to start with.\n",
    "        The variable i is used to flag when we have exhausted all our values in the s. In the first \"if statement\" we check if we  have doubles. \n",
    "        If we do, check if letter exists in doubles dictonary and add it to integer. If single value then check in single dictonary. Otherwise, you have\n",
    "        exhausted your loop. Exit. Roman numerals are usually written largest to smallest from left to right therefore we iterate from left to right.\n",
    "        \n",
    "        \n",
    "        Parameters:\n",
    "        --------\n",
    "        s: string of roman numbers\n",
    "\n",
    "        Returns:\n",
    "        --------\n",
    "        int: the integer equivalent of roman numbers\n",
    "        \n",
    "        \n",
    "        Examples\n",
    "        --------\n",
    "        Example 1:\n",
    "        Input: \"III\"\n",
    "        Output: 3\n",
    "        \n",
    "        Example 2:\n",
    "        Input: \"IV\"\n",
    "        Output: 4\n",
    "        \n",
    "        Example 3:\n",
    "        Input: \"IX\"\n",
    "        Output: 9\n",
    "        \n",
    "        Example 4:\n",
    "        Input: \"LVIII\"\n",
    "        Output: 58\n",
    "        Explanation: L = 50, V= 5, III = 3.\n",
    "        \n",
    "        Example 5:\n",
    "        Input: \"MCMXCIV\"\n",
    "        Output: 1994\n",
    "        Explanation: M = 1000, CM = 900, XC = 90 and IV = 4.\n",
    "            \n",
    "        \"\"\"\n",
    "        \n",
    "        doubles = {\"CM\": 900, \"CD\": 400, \"XC\":90, \"XL\": 40, \"IX\": 9, \"IV\":4}\n",
    "        singles = {\"M\": 1000, \"D\": 500, \"C\":100, \"L\":50, \"X\":10, \"V\":5, \"I\": 1}\n",
    "        \n",
    "        integer = 0\n",
    "        i = 0\n",
    "        \n",
    "        while i < len(s):\n",
    "            if i < len(s)-1 and s[i:i+2] in doubles:\n",
    "                integer += doubles[s[i:i+2]]\n",
    "                i +=2\n",
    "                \n",
    "            else:\n",
    "                integer += singles[s[i]]\n",
    "                i += 1\n",
    "        return integer "
   ]
  },
  {
   "cell_type": "code",
   "execution_count": 10,
   "metadata": {
    "execution": {
     "iopub.execute_input": "2020-05-06T18:16:20.870148Z",
     "iopub.status.busy": "2020-05-06T18:16:20.870094Z",
     "iopub.status.idle": "2020-05-06T18:16:20.870454Z",
     "shell.execute_reply": "2020-05-06T18:16:20.870412Z",
     "shell.execute_reply.started": "2020-05-06T18:16:20.870136Z"
    }
   },
   "outputs": [
    {
     "data": {
      "text/plain": [
       "3"
      ]
     },
     "execution_count": 10,
     "metadata": {},
     "output_type": "execute_result"
    }
   ],
   "source": [
    "question_3_1 = Solution()\n",
    "question_3_1.romanToInt(\"III\")"
   ]
  },
  {
   "cell_type": "markdown",
   "metadata": {
    "execution": {
     "iopub.execute_input": "2020-05-05T18:31:12.626115Z",
     "iopub.status.busy": "2020-05-05T18:31:12.626034Z",
     "iopub.status.idle": "2020-05-05T18:31:12.780780Z",
     "shell.execute_reply": "2020-05-05T18:31:12.780556Z",
     "shell.execute_reply.started": "2020-05-05T18:31:12.626100Z"
    }
   },
   "source": [
    "<p> Question 5: Longest Common Prefix - Write a function to find the longest common prefix string amongst an array of strings.If there is no common prefix, return an empty string \"\". </p>"
   ]
  },
  {
   "cell_type": "code",
   "execution_count": 11,
   "metadata": {
    "execution": {
     "iopub.execute_input": "2020-05-06T18:16:20.870627Z",
     "iopub.status.busy": "2020-05-06T18:16:20.870572Z",
     "iopub.status.idle": "2020-05-06T18:16:20.871052Z",
     "shell.execute_reply": "2020-05-06T18:16:20.870988Z",
     "shell.execute_reply.started": "2020-05-06T18:16:20.870614Z"
    }
   },
   "outputs": [],
   "source": [
    "class Solution:\n",
    "    def longestCommonPrefix(self, strs: List[str]) -> str:\n",
    "        \"\"\"\n",
    "        We take in a list of string, sort it out in alphatecial order. We then compare the first and last together,\n",
    "        since this will cover everything else in between. We then return the position/index of i, ones the condition\n",
    "        in the while loop is no longer satisfied which is \"i < len(first) and i < len(last) and first[i] == last[i]\".\n",
    "        Other methods includ Horizontal scanning, Vertical Scanning, Divide and Conquer, Binary Search.\n",
    "\n",
    "        Parameters:\n",
    "        --------\n",
    "        strs: takes in a list of integers\n",
    "\n",
    "        Returns:\n",
    "        --------\n",
    "        str: returns a string\n",
    "\n",
    "        Examples:\n",
    "        --------\n",
    "        Example 1:\n",
    "\n",
    "        Input: [\"flower\",\"flow\",\"flight\"]\n",
    "        Output: \"fl\"\n",
    "        Example 2:\n",
    "\n",
    "        Input: [\"dog\",\"racecar\",\"car\"]\n",
    "        Output: \"\"\n",
    "        Explanation: There is no common prefix among the input strings.  \n",
    "        \"\"\" \n",
    "        \n",
    "        #Catch if list is empty\n",
    "        \n",
    "        if not strs:\n",
    "            return \"\"\n",
    "        \n",
    "        # we sorted it out, and compare the first and last. What occurs in both will then occur in all of them.\n",
    "        strs = sorted(strs)\n",
    "        first = strs[0]\n",
    "        last = strs[-1]\n",
    "        \n",
    "        i= 0\n",
    "        while i < len(first) and i < len(last) and first[i] == last[i]:\n",
    "            i += 1\n",
    "            \n",
    "        return first[:i]"
   ]
  },
  {
   "cell_type": "code",
   "execution_count": 12,
   "metadata": {
    "execution": {
     "iopub.execute_input": "2020-05-06T18:16:20.871218Z",
     "iopub.status.busy": "2020-05-06T18:16:20.871163Z",
     "iopub.status.idle": "2020-05-06T18:16:20.871556Z",
     "shell.execute_reply": "2020-05-06T18:16:20.871500Z",
     "shell.execute_reply.started": "2020-05-06T18:16:20.871206Z"
    }
   },
   "outputs": [
    {
     "data": {
      "text/plain": [
       "'fl'"
      ]
     },
     "execution_count": 12,
     "metadata": {},
     "output_type": "execute_result"
    }
   ],
   "source": [
    "question_3_1 = Solution()\n",
    "question_3_1.longestCommonPrefix([\"flower\",\"flow\",\"flight\"])"
   ]
  },
  {
   "cell_type": "markdown",
   "metadata": {
    "execution": {
     "iopub.execute_input": "2020-05-05T19:00:21.317631Z",
     "iopub.status.busy": "2020-05-05T19:00:21.317537Z",
     "iopub.status.idle": "2020-05-05T19:00:21.319225Z",
     "shell.execute_reply": "2020-05-05T19:00:21.319157Z",
     "shell.execute_reply.started": "2020-05-05T19:00:21.317614Z"
    }
   },
   "source": [
    "<p> Question 6: Valid Parentheses - Given a string containing just the characters '(', ')', '{', '}', '[' and ']', determine if the input string is valid. An input string is valid if:\n",
    "- Open brackets must be closed by the same type of brackets.\n",
    "- Open brackets must be closed in the correct order.\n",
    "- Note that an empty string is also considered valid.\n",
    "</p>"
   ]
  },
  {
   "cell_type": "code",
   "execution_count": 13,
   "metadata": {
    "execution": {
     "iopub.execute_input": "2020-05-06T18:16:20.871724Z",
     "iopub.status.busy": "2020-05-06T18:16:20.871670Z",
     "iopub.status.idle": "2020-05-06T18:16:20.872053Z",
     "shell.execute_reply": "2020-05-06T18:16:20.871993Z",
     "shell.execute_reply.started": "2020-05-06T18:16:20.871711Z"
    }
   },
   "outputs": [],
   "source": [
    "class Solution:\n",
    "    def isValid(self, s: str) -> bool:\n",
    "        \"\"\"\n",
    "        Takes in a string of parameters. And recursively replaces them with empty space if they fit the while rule \n",
    "        \"while \"()\" in s or \"{}\" in s or \"[]\" in s:\", if the string is empty it will return True or otherwise false.\n",
    "\n",
    "        Parameters:\n",
    "        --------\n",
    "        strs: takes in a list of integers\n",
    "\n",
    "        Returns:\n",
    "        --------\n",
    "        str: returns a string\n",
    "\n",
    "        Examples:\n",
    "        --------\n",
    "        Example 1:\n",
    "        Input: \"()\"\n",
    "        Output: true\n",
    "        \n",
    "        Example 2:\n",
    "        Input: \"()[]{}\"\n",
    "        Output: true\n",
    "        \n",
    "        Example 3:\n",
    "        Input: \"(]\"\n",
    "        Output: false\n",
    "        \n",
    "        Example 4:\n",
    "        Input: \"([)]\"\n",
    "        Output: false\n",
    "        \n",
    "        Example 5:\n",
    "        Input: \"{[]}\"\n",
    "        Output: true\n",
    "        \"\"\"\n",
    "        \n",
    "        while \"()\" in s or \"{}\" in s or \"[]\" in s:\n",
    "            s= s.replace(\"()\", \"\").replace(\"{}\",\"\").replace(\"[]\",\"\")\n",
    "            \n",
    "        return s == \"\"\n",
    "        \n",
    "        \n",
    "        \n",
    "        "
   ]
  },
  {
   "cell_type": "code",
   "execution_count": 14,
   "metadata": {
    "execution": {
     "iopub.execute_input": "2020-05-06T18:16:20.872211Z",
     "iopub.status.busy": "2020-05-06T18:16:20.872157Z",
     "iopub.status.idle": "2020-05-06T18:16:20.872568Z",
     "shell.execute_reply": "2020-05-06T18:16:20.872514Z",
     "shell.execute_reply.started": "2020-05-06T18:16:20.872199Z"
    }
   },
   "outputs": [
    {
     "data": {
      "text/plain": [
       "True"
      ]
     },
     "execution_count": 14,
     "metadata": {},
     "output_type": "execute_result"
    }
   ],
   "source": [
    "question_6_1 = Solution()\n",
    "question_6_1.isValid(\"{}\")"
   ]
  },
  {
   "cell_type": "markdown",
   "metadata": {},
   "source": [
    "21. Merge Two Sorted Lists : Merge two sorted linked lists and return it as a new list. The new list should be made by splicing together the nodes of the first two lists."
   ]
  },
  {
   "cell_type": "code",
   "execution_count": 15,
   "metadata": {
    "execution": {
     "iopub.execute_input": "2020-05-06T18:16:20.872761Z",
     "iopub.status.busy": "2020-05-06T18:16:20.872697Z",
     "iopub.status.idle": "2020-05-06T18:16:20.873560Z",
     "shell.execute_reply": "2020-05-06T18:16:20.873473Z",
     "shell.execute_reply.started": "2020-05-06T18:16:20.872745Z"
    }
   },
   "outputs": [],
   "source": [
    "class ListNode:\n",
    "    def __init__(self, val=0, next=None):\n",
    "        self.val = val\n",
    "        self.next = next\n",
    "\n",
    "\n",
    "class Solution:\n",
    "\n",
    "    def mergeTwoLists_1(self, l1: ListNode, l2: ListNode) -> ListNode:\n",
    "        return sorted(l1 + l2)\n",
    "    \n",
    "    \n",
    "    def mergeTwoLists_2(self, l1: ListNode, l2: ListNode) -> ListNode:\n",
    "        return [x for t in zip(l1, l2) for x in t]\n",
    "    \n",
    "    def mergeTwoLists(self, l1: ListNode, l2: ListNode) -> ListNode:\n",
    "        \n",
    "        \"\"\"\n",
    "        A listnode contains 2 things, the integer values and points to the next node \n",
    "        |value|points_to_nextNode| -> |value|points_to_nextNode|\n",
    "        The first step is to create a new list called l3 and fill it dummy value. We compare l1 and l2, if l1 is less\n",
    "        than l2, then we move the l1 pointer to the next node in the list, and copy the l1 value\n",
    "        to the l3 list\n",
    "    \n",
    "        Parameters:\n",
    "        --------\n",
    "        l1: ListNode: A list node of values and reference to next node\n",
    "        l2: ListNode: A list node of values and reference to next node\n",
    "\n",
    "        Returns:\n",
    "        --------\n",
    "        l3: A list node of values and reference to next node\n",
    "\n",
    "        Examples:\n",
    "        --------\n",
    "        Example 1:\n",
    "        Input:  1->2->4, 1->3->4\n",
    "        Output: 1->1->2->3->4->4\n",
    "    \n",
    "        \"\"\"\n",
    "\n",
    "        dummy = ListNode(0)\n",
    "        l3 = dummy\n",
    "        \n",
    "        while l1 and l2:\n",
    "            if l1.val < l2.val:\n",
    "                dummy.next = l1 #give this l1 to the dummy value\n",
    "                l1 = l1.next #move l1 pointer to the next value\n",
    "            else:\n",
    "                dummy.next = l2\n",
    "                l2 = l2.next\n",
    "                \n",
    "            dummy = dummy.next #since we added the value, we need to move the pointer l3 to the next\n",
    "        \n",
    "        # When condition does not match, append the rest to the next\n",
    "        dummy.next = l1 or l2\n",
    "        l3 = l3.next\n",
    "        \n",
    "        return l3 # now we need to point the l3 to the next\n",
    "        "
   ]
  },
  {
   "cell_type": "markdown",
   "metadata": {},
   "source": [
    "26. Remove Duplicates from Sorted Array. Given a sorted array nums, remove the duplicates in-place such that each element appear only once and return the new length. Do not allocate extra space for another array, you must do this by modifying the input array in-place with O(1) extra memory.\n"
   ]
  },
  {
   "cell_type": "code",
   "execution_count": 16,
   "metadata": {
    "execution": {
     "iopub.execute_input": "2020-05-06T18:16:20.873751Z",
     "iopub.status.busy": "2020-05-06T18:16:20.873691Z",
     "iopub.status.idle": "2020-05-06T18:16:20.874362Z",
     "shell.execute_reply": "2020-05-06T18:16:20.874295Z",
     "shell.execute_reply.started": "2020-05-06T18:16:20.873737Z"
    }
   },
   "outputs": [],
   "source": [
    "class Solution:\n",
    "    def removeDuplicates_1(self, nums: List[int]) -> int:\n",
    "        \n",
    "        \"\"\"\n",
    "        This method creates a variable called next_new which holds the length of unique\n",
    "        values. This is intiated with zero. We will iterate the length of the list given.\n",
    "        If it is the first iteration, then we will add the value directly since it is unique value.\n",
    "        In the next iteration we compare two values in the list, if they are identical, \n",
    "        we move to the next pairs. If they are not identical, then you skip. When the list\n",
    "        grows, it simply overwrites existing positions.\n",
    "    \n",
    "        Parameters:\n",
    "        --------\n",
    "        nums: takes in a list of integers\n",
    "\n",
    "        Returns:\n",
    "        --------\n",
    "        next_new: returns the length of unique list of integers\n",
    "\n",
    "        Examples:\n",
    "        --------\n",
    "        Example 1:\n",
    "        Input:  [1,1,2]\n",
    "        Output:  2\n",
    "        \"\"\"\n",
    "        \n",
    "        next_new = 0\n",
    "        for i in range(len(nums)):\n",
    "            if i == 0 or nums[i] != nums[i-1]:\n",
    "                nums[next_new] = nums[i]\n",
    "                next_new += 1\n",
    "        return next_new\n",
    "                \n",
    "                \n",
    "    def removeDuplicates_2(self, nums: List[int]) -> int:\n",
    "        \n",
    "        i = 0\n",
    "        while i < len(nums)-1:\n",
    "            if nums[i] == nums[i+1]:\n",
    "                del nums[i]\n",
    "            else:\n",
    "                i+=1\n",
    "        return len(nums)\n",
    "        "
   ]
  },
  {
   "cell_type": "code",
   "execution_count": 17,
   "metadata": {
    "execution": {
     "iopub.execute_input": "2020-05-06T18:16:20.874536Z",
     "iopub.status.busy": "2020-05-06T18:16:20.874476Z",
     "iopub.status.idle": "2020-05-06T18:16:20.874881Z",
     "shell.execute_reply": "2020-05-06T18:16:20.874838Z",
     "shell.execute_reply.started": "2020-05-06T18:16:20.874522Z"
    }
   },
   "outputs": [
    {
     "data": {
      "text/plain": [
       "2"
      ]
     },
     "execution_count": 17,
     "metadata": {},
     "output_type": "execute_result"
    }
   ],
   "source": [
    "question_6_1 = Solution()\n",
    "question_6_1.removeDuplicates_1([1,2])"
   ]
  },
  {
   "cell_type": "markdown",
   "metadata": {},
   "source": [
    "<p> 27. Remove Element Given an array nums and a value val, remove all instances of that value in-place and return the new length.Do not allocate extra space for another array, you must do this by modifying the input array in-place with O(1) extra memory.</p>"
   ]
  },
  {
   "cell_type": "code",
   "execution_count": 95,
   "metadata": {
    "execution": {
     "iopub.execute_input": "2020-05-06T18:52:40.606640Z",
     "iopub.status.busy": "2020-05-06T18:52:40.606542Z",
     "iopub.status.idle": "2020-05-06T18:52:40.607103Z",
     "shell.execute_reply": "2020-05-06T18:52:40.607033Z",
     "shell.execute_reply.started": "2020-05-06T18:52:40.606625Z"
    }
   },
   "outputs": [],
   "source": [
    "class Solution:\n",
    "    def removeElement(self, nums: List[int], val: int) -> int:\n",
    "        \"\"\"\n",
    "        Takes in a list of numbers and iterate its length. If val does not equal the \n",
    "        number in the list, keep that val by using nums[count] / overwrite the position\n",
    "        of the previous index stored at count=0.\n",
    "    \n",
    "        Parameters:\n",
    "        --------\n",
    "        nums: takes in a list of integers\n",
    "\n",
    "        Returns:\n",
    "        --------\n",
    "        count: returns the length of unique list of integers\n",
    "\n",
    "        Examples:\n",
    "        --------\n",
    "        Example 1:\n",
    "        Input:  [1,1,2] , 1\n",
    "        Output:  1\n",
    "        \"\"\"\n",
    "        count = 0\n",
    "        for i in range(len(nums)):\n",
    "            if val != nums[i]:\n",
    "                nums[count] = nums[i]\n",
    "                count +=1\n",
    "        return count\n",
    "        "
   ]
  },
  {
   "cell_type": "code",
   "execution_count": 96,
   "metadata": {
    "execution": {
     "iopub.execute_input": "2020-05-06T18:52:40.862948Z",
     "iopub.status.busy": "2020-05-06T18:52:40.862868Z",
     "iopub.status.idle": "2020-05-06T18:52:40.863408Z",
     "shell.execute_reply": "2020-05-06T18:52:40.863357Z",
     "shell.execute_reply.started": "2020-05-06T18:52:40.862933Z"
    }
   },
   "outputs": [
    {
     "data": {
      "text/plain": [
       "2"
      ]
     },
     "execution_count": 96,
     "metadata": {},
     "output_type": "execute_result"
    }
   ],
   "source": [
    "question_6_1 = Solution()\n",
    "question_6_1.removeElement([3,2,2,3],3)"
   ]
  },
  {
   "cell_type": "markdown",
   "metadata": {},
   "source": [
    "<p> 28. Implement strStr() that return the index of the first occurrence of needle in haystack, or -1 if needle is not part of haystack. </p>"
   ]
  },
  {
   "cell_type": "code",
   "execution_count": null,
   "metadata": {},
   "outputs": [],
   "source": [
    "class Solution:\n",
    "    def strStr_1(self, haystack: str, needle: str) -> int:\n",
    "        if needle in haystack:\n",
    "            return haystack.index(needle)\n",
    "        return -1\n",
    "    \n",
    "    def strStr_2(self, haystack: str, needle: str) -> int:\n",
    "        \"\"\"\n",
    "        we start with for i in range(len(haystack) - len(needle)+1) since we do not\n",
    "        have to iterate more than the number of times the needle can fit the haystack.\n",
    "        We start with 0 up the length of the haystack and see if it matches, if it does,\n",
    "        we simply return the index i which is the position of first occurence. If not\n",
    "        we iterate to the next and see if the word fits.\n",
    "    \n",
    "        Parameters:\n",
    "        --------\n",
    "        haystack: str of words\n",
    "        needle: str of words that will search the haystack\n",
    "\n",
    "        Returns:\n",
    "        --------\n",
    "        count: returns the length of unique list of integers\n",
    "\n",
    "        Examples:\n",
    "        --------\n",
    "        Example 1:\n",
    "        Input:  haystack = \"hello\", needle = \"ll\"\n",
    "        Output:  2\n",
    "        \"\"\"\n",
    "        \n",
    "        for i in range(len(haystack) - len(needle)+1):\n",
    "            if haystack[i:i+len(needle)] == needle:\n",
    "                return i\n",
    "        return -1    "
   ]
  }
 ],
 "metadata": {
  "kernelspec": {
   "display_name": "xpython",
   "language": "python",
   "name": "xpython"
  },
  "language_info": {
   "file_extension": ".py",
   "mimetype": "text/x-python",
   "name": "python",
   "version": "3.7.6"
  }
 },
 "nbformat": 4,
 "nbformat_minor": 4
}
