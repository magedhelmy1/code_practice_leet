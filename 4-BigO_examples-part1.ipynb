{
 "cells": [
  {
   "cell_type": "markdown",
   "metadata": {},
   "source": [
    "<h1> Example - 1 </h1>"
   ]
  },
  {
   "cell_type": "code",
   "execution_count": null,
   "metadata": {},
   "outputs": [],
   "source": [
    "def foo(array):\n",
    "    \n",
    "    total= 0\n",
    "    product= 1\n",
    "    \n",
    "    for x in array:\n",
    "        total += x\n",
    "        \n",
    "    for y in array:\n",
    "        product *= y\n",
    "        \n",
    "    return total, product\n",
    "        \n",
    "        \n",
    "foo([1,2,3,4])"
   ]
  },
  {
   "cell_type": "code",
   "execution_count": 9,
   "metadata": {
    "execution": {
     "iopub.execute_input": "2020-05-28T14:43:32.058291Z",
     "iopub.status.busy": "2020-05-28T14:43:32.057486Z",
     "iopub.status.idle": "2020-05-28T14:43:32.063412Z",
     "shell.execute_reply": "2020-05-28T14:43:32.062279Z",
     "shell.execute_reply.started": "2020-05-28T14:43:32.058291Z"
    }
   },
   "outputs": [
    {
     "data": {
      "text/plain": [
       "'\\nThis will take O(N) time. The fact that we iterate through the array twice does not matter.\\n'"
      ]
     },
     "execution_count": 9,
     "metadata": {},
     "output_type": "execute_result"
    }
   ],
   "source": [
    "\"\"\"\n",
    "This will take O(N) time. The fact that we iterate through the array twice does not matter.\n",
    "\"\"\""
   ]
  },
  {
   "cell_type": "markdown",
   "metadata": {},
   "source": [
    "<h1> Example - 2 </h1>"
   ]
  },
  {
   "cell_type": "code",
   "execution_count": null,
   "metadata": {},
   "outputs": [],
   "source": [
    "def printPairs(array):\n",
    "    \n",
    "    for x in range(len(array)):\n",
    "        for y in range(len(array)):\n",
    "            print(x,y)\n",
    "            \n",
    "printPairs([1,2,3,4])"
   ]
  },
  {
   "cell_type": "code",
   "execution_count": 8,
   "metadata": {
    "execution": {
     "iopub.execute_input": "2020-05-28T14:42:51.238457Z",
     "iopub.status.busy": "2020-05-28T14:42:51.238457Z",
     "iopub.status.idle": "2020-05-28T14:42:51.243246Z",
     "shell.execute_reply": "2020-05-28T14:42:51.242458Z",
     "shell.execute_reply.started": "2020-05-28T14:42:51.238457Z"
    }
   },
   "outputs": [
    {
     "data": {
      "text/plain": [
       "'\\nda\\n'"
      ]
     },
     "execution_count": 8,
     "metadata": {},
     "output_type": "execute_result"
    }
   ],
   "source": [
    "\"\"\"\n",
    "The inner loop has O(N) iterations and it is called N times. Therefore, the runtime is O(N^2)\n",
    "\"\"\""
   ]
  },
  {
   "cell_type": "markdown",
   "metadata": {},
   "source": [
    "<h1> Example - 3 </h1>"
   ]
  },
  {
   "cell_type": "code",
   "execution_count": null,
   "metadata": {},
   "outputs": [],
   "source": [
    "def printUnordered(array):\n",
    "    for x in range(len(array)):\n",
    "        for y in range(x+1,len(array)):\n",
    "            print(x,y)\n",
    "\n",
    "printUnordered([1,2,3,4])"
   ]
  },
  {
   "cell_type": "code",
   "execution_count": null,
   "metadata": {},
   "outputs": [],
   "source": [
    "\"\"\"\n",
    "Very similiar to the code above, but the inner loop starts at i+1\n",
    "The outer loop will run as N, the inner loop will run as N-1, N-2, N-3...\n",
    "If we combine both of these, it is called the \"sum of integers 1 through N\", so the O(N) will be\n",
    "O(N^2+1/2) which simplifies to O(N^2)\n",
    "\"\"\""
   ]
  },
  {
   "cell_type": "markdown",
   "metadata": {},
   "source": [
    "<h1> Example - 4 </h1>"
   ]
  },
  {
   "cell_type": "code",
   "execution_count": null,
   "metadata": {},
   "outputs": [],
   "source": [
    "def printUnorderedPairs(arrayA, arrayB):\n",
    "    \n",
    "    for x in range(len(arrayA)):\n",
    "        \n",
    "        for y in range(len(arrayB)):\n",
    "            \n",
    "            if arrayA[x] < arrayB[y]:\n",
    "                \n",
    "                print(arrayA[x],arrayB[y])\n",
    "\n",
    "printUnorderedPairs([1,2,3,4],[9,8,7,6])"
   ]
  },
  {
   "cell_type": "code",
   "execution_count": null,
   "metadata": {},
   "outputs": [],
   "source": [
    "\"\"\"\n",
    "This is similiar as the above but the difference is you have two different arrays as input\n",
    "The if analysis is simply O(1) since this will remain a constant-time.\n",
    "For each element of A, it goes through B amount of interation, there it is O(ab)\n",
    "since we do not know the lenght of b, it can be tempting to say O(N^2) but that is if they are \n",
    "equal\n",
    "\"\"\""
   ]
  },
  {
   "cell_type": "markdown",
   "metadata": {},
   "source": [
    "<h1> Example - 5 </h1>"
   ]
  },
  {
   "cell_type": "code",
   "execution_count": null,
   "metadata": {},
   "outputs": [],
   "source": [
    "def foo2(arrayA, arrayB):\n",
    "    \n",
    "    for x in range(len(arrayA)):\n",
    "        \n",
    "        for y in range(len(arrayB)):\n",
    "            \n",
    "            for z in range(100000):\n",
    "                \n",
    "                print(arrayA[x],arrayB[y])\n",
    "                \n",
    "foo2([1,2,3,4],[9,8,7,6])"
   ]
  },
  {
   "cell_type": "code",
   "execution_count": null,
   "metadata": {},
   "outputs": [],
   "source": [
    "\"\"\"\n",
    "The inner most loop is constant, and the outer is still O(ab)\n",
    "\"\"\""
   ]
  },
  {
   "cell_type": "markdown",
   "metadata": {},
   "source": [
    "<h1> Example - 6 </h1>"
   ]
  },
  {
   "cell_type": "code",
   "execution_count": null,
   "metadata": {},
   "outputs": [],
   "source": [
    "def reverse(array):\n",
    "    \n",
    "    for x in range(int(len(array)/2)):\n",
    "        a= len(array) - x +5\n",
    "        b= array[x]\n",
    "        c= a * b + 3\n",
    "    \n",
    "    return c\n",
    "    \n",
    "reverse([1,2,3,4])"
   ]
  },
  {
   "cell_type": "code",
   "execution_count": null,
   "metadata": {},
   "outputs": [],
   "source": [
    "\"\"\"\n",
    "This is still O(N), the fact it goes through half the array it does not matter\n",
    "The fact is has all these calculations also does not matter\n",
    "\"\"\""
   ]
  },
  {
   "cell_type": "markdown",
   "metadata": {},
   "source": [
    "<h1> Example - 7 </h1>"
   ]
  },
  {
   "cell_type": "code",
   "execution_count": 11,
   "metadata": {
    "execution": {
     "iopub.execute_input": "2020-05-28T15:35:19.051598Z",
     "iopub.status.busy": "2020-05-28T15:35:19.051598Z",
     "iopub.status.idle": "2020-05-28T15:35:19.056554Z",
     "shell.execute_reply": "2020-05-28T15:35:19.055896Z",
     "shell.execute_reply.started": "2020-05-28T15:35:19.051598Z"
    }
   },
   "outputs": [
    {
     "data": {
      "text/plain": [
       "'\\nAlgorithm takes in arrayA, arrayB, arrayC, arrayD\\n\\nStep 1: It has to sort each string # sort each string: O(s log s), sort several of them O(a*s log s)\\nStep 2: It has to sort each array in relative to the other array O(a log a)\\nStep 3: it merges them together O(a*s(log a + log s))\\n'"
      ]
     },
     "execution_count": 11,
     "metadata": {},
     "output_type": "execute_result"
    }
   ],
   "source": [
    "\"\"\"\n",
    "Algorithm takes in arrayA, arrayB, arrayC, arrayD\n",
    "\n",
    "suppose that \"a\" is the length of the array\n",
    "suppose that \"s\" is the length of the longest string\n",
    "\n",
    "Step 1: It has to sort each string # sort each string: O(a*s log s), where s is the length of the longest string and a is lenght of the array\n",
    "Step 2: It has to sort each array in relative to the other array O(a*s log a)\n",
    "Step 3: it merges them together O(a*s(log a + log s))\n",
    "\"\"\""
   ]
  },
  {
   "cell_type": "markdown",
   "metadata": {},
   "source": [
    "<h1> Example - 8 </h1>"
   ]
  },
  {
   "cell_type": "code",
   "execution_count": null,
   "metadata": {},
   "outputs": [],
   "source": [
    "# Sums up all the nodes in a balanced binary tree\n",
    "\n",
    "def sum_binary_tree(Node):\n",
    "    \n",
    "    if (node == None):\n",
    "        return 0;\n",
    "    \n",
    "    return sum_binary_tree(node.left) + node.value + sum(node.right)"
   ]
  },
  {
   "cell_type": "code",
   "execution_count": null,
   "metadata": {},
   "outputs": [],
   "source": [
    "\"\"\"\n",
    "The code iterates on each single node making it basically O(N)\n",
    "\"\"\""
   ]
  },
  {
   "cell_type": "markdown",
   "metadata": {},
   "source": [
    "<h1> Example - 9 </h1>"
   ]
  },
  {
   "cell_type": "code",
   "execution_count": null,
   "metadata": {},
   "outputs": [],
   "source": [
    "from math import sqrt\n",
    "\n",
    "def isPrime(n):\n",
    "    \n",
    "    if n == 2 or n == 3: return True\n",
    "    if n < 2 or n%2 == 0: return False\n",
    "    if n < 9: return True\n",
    "    if n%3 == 0: return False\n",
    "    \n",
    "    r = int(n**0.5)\n",
    "    for i in range(2,r):\n",
    "        \n",
    "        if n % i == 0:\n",
    "            return False\n",
    "        \n",
    "    return True\n",
    "\n",
    "isPrime(73)"
   ]
  },
  {
   "cell_type": "code",
   "execution_count": null,
   "metadata": {},
   "outputs": [],
   "source": [
    "\"\"\"\n",
    "Everything here is constant beside the number of times the loop is executed which will O(square root of N)\n",
    "\"\"\""
   ]
  },
  {
   "cell_type": "markdown",
   "metadata": {},
   "source": [
    "<h1> Example - 10 </h1>"
   ]
  },
  {
   "cell_type": "code",
   "execution_count": 14,
   "metadata": {
    "execution": {
     "iopub.execute_input": "2020-05-28T15:55:41.135103Z",
     "iopub.status.busy": "2020-05-28T15:55:41.135103Z",
     "iopub.status.idle": "2020-05-28T15:55:41.141086Z",
     "shell.execute_reply": "2020-05-28T15:55:41.141086Z",
     "shell.execute_reply.started": "2020-05-28T15:55:41.135103Z"
    }
   },
   "outputs": [
    {
     "data": {
      "text/plain": [
       "1"
      ]
     },
     "execution_count": 14,
     "metadata": {},
     "output_type": "execute_result"
    }
   ],
   "source": [
    "def factorial(n):\n",
    "    if n < 0:\n",
    "        return None\n",
    "    elif n == 0:\n",
    "        return 1\n",
    "    else:\n",
    "        return n*factorial(n-1)\n",
    "    \n",
    "factorial(1)"
   ]
  },
  {
   "cell_type": "code",
   "execution_count": null,
   "metadata": {},
   "outputs": [],
   "source": [
    "\"\"\"\n",
    "It is not O(N!) , it is simply O(N) because it does multiplication from n to n-1 down to 1\n",
    "\"\"\""
   ]
  },
  {
   "cell_type": "markdown",
   "metadata": {},
   "source": [
    "<h1> Example - 11 </h1>"
   ]
  },
  {
   "cell_type": "code",
   "execution_count": 19,
   "metadata": {
    "execution": {
     "iopub.execute_input": "2020-05-28T16:08:32.293450Z",
     "iopub.status.busy": "2020-05-28T16:08:32.293450Z",
     "iopub.status.idle": "2020-05-28T16:08:32.656002Z",
     "shell.execute_reply": "2020-05-28T16:08:32.656002Z",
     "shell.execute_reply.started": "2020-05-28T16:08:32.293450Z"
    }
   },
   "outputs": [
    {
     "data": {
      "text/plain": [
       "832040"
      ]
     },
     "execution_count": 19,
     "metadata": {},
     "output_type": "execute_result"
    }
   ],
   "source": [
    "def fib(n):\n",
    "    if n <= 0: \n",
    "        return 0\n",
    "    \n",
    "    elif n == 1: \n",
    "        return 1\n",
    "    \n",
    "    else: \n",
    "        return fib(n-1) + fib(n-2)\n",
    "    \n",
    "fib(30)"
   ]
  },
  {
   "cell_type": "code",
   "execution_count": null,
   "metadata": {},
   "outputs": [],
   "source": [
    "\"\"\"\n",
    "A Fibonacci makes multuple recurive calls which is essentiall a O(2^n)\n",
    "\"\"\""
   ]
  },
  {
   "cell_type": "markdown",
   "metadata": {},
   "source": [
    "<h1> Example - 12 </h1>"
   ]
  },
  {
   "cell_type": "code",
   "execution_count": 20,
   "metadata": {
    "execution": {
     "iopub.execute_input": "2020-05-28T16:08:36.651189Z",
     "iopub.status.busy": "2020-05-28T16:08:36.650191Z",
     "iopub.status.idle": "2020-05-28T16:08:36.658171Z",
     "shell.execute_reply": "2020-05-28T16:08:36.657173Z",
     "shell.execute_reply.started": "2020-05-28T16:08:36.651189Z"
    }
   },
   "outputs": [
    {
     "name": "stdout",
     "output_type": "stream",
     "text": [
      "832040\n"
     ]
    }
   ],
   "source": [
    "def memoize(f):\n",
    "    memo = {}\n",
    "    def helper(x):\n",
    "        if x not in memo:            \n",
    "            memo[x] = f(x)\n",
    "        return memo[x]\n",
    "    return helper\n",
    "    \n",
    "\n",
    "def fib(n):\n",
    "    if n == 0:\n",
    "        return 0\n",
    "    elif n == 1:\n",
    "        return 1\n",
    "    else:\n",
    "        return fib(n-1) + fib(n-2)\n",
    "\n",
    "fib = memoize(fib)\n",
    "\n",
    "print(fib(30))"
   ]
  },
  {
   "cell_type": "code",
   "execution_count": null,
   "metadata": {},
   "outputs": [],
   "source": [
    "\"\"\"\n",
    "A Fibonacci with memoization goes down to O(N)\n",
    "\"\"\""
   ]
  },
  {
   "cell_type": "markdown",
   "metadata": {},
   "source": [
    "<h1> Example - 13 </h1>"
   ]
  },
  {
   "cell_type": "code",
   "execution_count": 23,
   "metadata": {
    "execution": {
     "iopub.execute_input": "2020-05-28T16:09:04.433681Z",
     "iopub.status.busy": "2020-05-28T16:09:04.433681Z",
     "iopub.status.idle": "2020-05-28T16:09:04.439348Z",
     "shell.execute_reply": "2020-05-28T16:09:04.438784Z",
     "shell.execute_reply.started": "2020-05-28T16:09:04.433681Z"
    }
   },
   "outputs": [
    {
     "data": {
      "text/plain": [
       "8"
      ]
     },
     "execution_count": 23,
     "metadata": {},
     "output_type": "execute_result"
    }
   ],
   "source": [
    "def power_2(n):\n",
    "    \n",
    "    if n < 1: return 0\n",
    "    \n",
    "    elif n == 1: \n",
    "        return 1\n",
    "    \n",
    "    else:\n",
    "        prev= power_2(n//2)\n",
    "        curr= prev * 2\n",
    "        \n",
    "    return curr\n",
    "  \n",
    "power_2(10)"
   ]
  },
  {
   "cell_type": "code",
   "execution_count": 5,
   "metadata": {
    "execution": {
     "iopub.execute_input": "2020-05-28T14:38:13.217987Z",
     "iopub.status.busy": "2020-05-28T14:38:13.217987Z",
     "iopub.status.idle": "2020-05-28T14:38:13.223731Z",
     "shell.execute_reply": "2020-05-28T14:38:13.223000Z",
     "shell.execute_reply.started": "2020-05-28T14:38:13.217987Z"
    }
   },
   "outputs": [
    {
     "data": {
      "text/plain": [
       "2"
      ]
     },
     "execution_count": 5,
     "metadata": {},
     "output_type": "execute_result"
    }
   ],
   "source": [
    "\"\"\"\n",
    "This will O(log n) because on the next iteration, it needs half the amount of time.\n",
    "\"\"\""
   ]
  },
  {
   "cell_type": "markdown",
   "metadata": {
    "execution": {
     "iopub.execute_input": "2020-05-28T07:26:35.357422Z",
     "iopub.status.busy": "2020-05-28T07:26:35.356446Z",
     "iopub.status.idle": "2020-05-28T07:26:35.361326Z",
     "shell.execute_reply": "2020-05-28T07:26:35.361326Z",
     "shell.execute_reply.started": "2020-05-28T07:26:35.357422Z"
    }
   },
   "source": [
    "<h1> Bonus </h1>"
   ]
  },
  {
   "cell_type": "markdown",
   "metadata": {},
   "source": [
    "-> Which of the following is equivalent to O(N)\n",
    "\n",
    "---- O(N+P) assuming P is less than N/2\n",
    "\n",
    "---- O(N+M)\n",
    "\n",
    "---- O(2N)\n",
    "\n",
    "---- O(N + log N)\n",
    "\n",
    "---- O(N+M)"
   ]
  }
 ],
 "metadata": {
  "kernelspec": {
   "display_name": "Python 3",
   "language": "python",
   "name": "python3"
  },
  "language_info": {
   "codemirror_mode": {
    "name": "ipython",
    "version": 3
   },
   "file_extension": ".py",
   "mimetype": "text/x-python",
   "name": "python",
   "nbconvert_exporter": "python",
   "pygments_lexer": "ipython3",
   "version": "3.7.6"
  }
 },
 "nbformat": 4,
 "nbformat_minor": 4
}
