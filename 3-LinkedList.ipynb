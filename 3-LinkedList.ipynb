{
 "cells": [
  {
   "cell_type": "code",
   "execution_count": 1,
   "metadata": {
    "execution": {
     "iopub.execute_input": "2020-05-26T09:38:36.550755Z",
     "iopub.status.busy": "2020-05-26T09:38:36.550755Z",
     "iopub.status.idle": "2020-05-26T09:38:36.554697Z",
     "shell.execute_reply": "2020-05-26T09:38:36.554697Z",
     "shell.execute_reply.started": "2020-05-26T09:38:36.550755Z"
    }
   },
   "outputs": [],
   "source": [
    "from typing import List"
   ]
  },
  {
   "cell_type": "markdown",
   "metadata": {},
   "source": [
    "<h1> Linked List</h1>"
   ]
  },
  {
   "cell_type": "markdown",
   "metadata": {},
   "source": [
    "singly-linked list "
   ]
  },
  {
   "cell_type": "markdown",
   "metadata": {},
   "source": [
    "Design Linked List: Design your implementation of the linked list. You can choose to use the singly linked list or the doubly linked list. A node in a singly linked list should have two attributes: val and next. val is the value of the current node, and next is a pointer/reference to the next node. If you want to use the doubly linked list, you will need one more attribute prev to indicate the previous node in the linked list. Assume all nodes in the linked list are 0-indexed.\n",
    "\n",
    "Implement these functions in your linked list class:\n",
    "\n",
    "get(index) : Get the value of the index-th node in the linked list. If the index is invalid, return -1.\n",
    "\n",
    "addAtHead(val) : Add a node of value val before the first element of the linked list. \n",
    "After the insertion, the new node will be the first node of the linked list.\n",
    "\n",
    "addAtTail(val) : Append a node of value val to the last element of the linked list.\n",
    "\n",
    "addAtIndex(index, val) : Add a node of value val before the index-th node in the linked list. If index equals to the length of linked list, the node will be appended to the end of linked list. If index is greater than the length, the node will not be inserted.\n",
    "\n",
    "deleteAtIndex(index) : Delete the index-th node in the linked list, if the index is valid."
   ]
  },
  {
   "cell_type": "code",
   "execution_count": 2,
   "metadata": {
    "execution": {
     "iopub.execute_input": "2020-05-26T09:38:36.556612Z",
     "iopub.status.busy": "2020-05-26T09:38:36.556612Z",
     "iopub.status.idle": "2020-05-26T09:38:36.564451Z",
     "shell.execute_reply": "2020-05-26T09:38:36.564451Z",
     "shell.execute_reply.started": "2020-05-26T09:38:36.556612Z"
    }
   },
   "outputs": [],
   "source": [
    "class MyLinkedList:\n",
    "\n",
    "    def __init__(self):\n",
    "        \"\"\"\n",
    "        Initialize your data structure here.\n",
    "        \"\"\"\n",
    "        self.list= []\n",
    "        \n",
    "\n",
    "    def get(self, index: int) -> int:\n",
    "        \"\"\"\n",
    "        Get the value of the index-th node in the linked list. If the index is invalid, return -1.\n",
    "        \"\"\"\n",
    "        if index >= len(self.list):\n",
    "            return -1\n",
    "        return self.list[index]\n",
    "        \n",
    "        \n",
    "\n",
    "    def addAtHead(self, val: int) -> None:\n",
    "        \"\"\"\n",
    "        Add a node of value val before the first element of the linked list. After the insertion, the new node will be the first node of the linked list.\n",
    "        \"\"\"\n",
    "        self.list= [val] + self.list\n",
    "        \n",
    "\n",
    "    def addAtTail(self, val: int) -> None:\n",
    "        \"\"\"\n",
    "        Append a node of value val to the last element of the linked list.\n",
    "        \"\"\"\n",
    "        self.list.append(val)\n",
    "        \n",
    "\n",
    "    def addAtIndex(self, index: int, val: int) -> None:\n",
    "        \"\"\"\n",
    "        Add a node of value val before the index-th node in the linked list. If index equals to the length of linked list, the node will be appended to the end of linked list. If index is greater than the length, the node will not be inserted.\n",
    "        \"\"\"\n",
    "        if index > len(self.list):\n",
    "            return\n",
    "        \n",
    "        self.list.insert(index, val)\n",
    "\n",
    "    def deleteAtIndex(self, index: int) -> None:\n",
    "        \"\"\"\n",
    "        Delete the index-th node in the linked list, if the index is valid.\n",
    "        \"\"\"\n",
    "        if index >= len(self.list):\n",
    "            return\n",
    "        del self.list[index]\n",
    "        \n",
    "\n",
    "\n",
    "# Your MyLinkedList object will be instantiated and called as such:\n",
    "# obj = MyLinkedList()\n",
    "# param_1 = obj.get(index)\n",
    "# obj.addAtHead(val)\n",
    "# obj.addAtTail(val)\n",
    "# obj.addAtIndex(index,val)\n",
    "# obj.deleteAtIndex(index)"
   ]
  },
  {
   "cell_type": "markdown",
   "metadata": {},
   "source": [
    "Two-Pointer in Linked List"
   ]
  },
  {
   "cell_type": "markdown",
   "metadata": {},
   "source": [
    "Given a linked list, determine if it has a cycle in it. To represent a cycle in the given linked list, we use an integer pos which represents the position (0-indexed) in the linked list where tail connects to. If pos is -1, then there is no cycle in the linked list."
   ]
  },
  {
   "cell_type": "code",
   "execution_count": 8,
   "metadata": {
    "execution": {
     "iopub.execute_input": "2020-05-26T10:30:31.918582Z",
     "iopub.status.busy": "2020-05-26T10:30:31.918582Z",
     "iopub.status.idle": "2020-05-26T10:30:31.923461Z",
     "shell.execute_reply": "2020-05-26T10:30:31.923461Z",
     "shell.execute_reply.started": "2020-05-26T10:30:31.918582Z"
    }
   },
   "outputs": [],
   "source": [
    "class Solution:\n",
    "    def hasCycle(self, head) -> bool:\n",
    "        \n",
    "        fast, slow = head, head\n",
    "        \n",
    "        while fast and fast.next:\n",
    "            slow= slow.next\n",
    "            fast= fast.next.next\n",
    "            \n",
    "            if fast == slow:\n",
    "                return True\n",
    "            \n",
    "        return False\n",
    "        "
   ]
  },
  {
   "cell_type": "markdown",
   "metadata": {},
   "source": [
    "Linked List Cycle II: Given a linked list, return the node where the cycle begins. If there is no cycle, return null.\n",
    "\n",
    "To represent a cycle in the given linked list, we use an integer pos which represents the position (0-indexed) in the linked list where tail connects to. If pos is -1, then there is no cycle in the linked list.\n"
   ]
  },
  {
   "cell_type": "code",
   "execution_count": 5,
   "metadata": {
    "execution": {
     "iopub.execute_input": "2020-05-26T09:38:56.798853Z",
     "iopub.status.busy": "2020-05-26T09:38:56.798853Z",
     "iopub.status.idle": "2020-05-26T09:38:56.804701Z",
     "shell.execute_reply": "2020-05-26T09:38:56.804701Z",
     "shell.execute_reply.started": "2020-05-26T09:38:56.798853Z"
    }
   },
   "outputs": [],
   "source": [
    "# use Floyd's cycle detection\n",
    "\n",
    "class ListNode:\n",
    "    def __init__(self, x):\n",
    "        self.val = x\n",
    "        self.next = None\n",
    "\n",
    "class Solution:\n",
    "    def detectCycle(self, head: ListNode) -> ListNode:\n",
    "        fast, slow = head, head\n",
    "        \n",
    "        while fast and fast.next:\n",
    "            slow= slow.next\n",
    "            fast= fast.next.next\n",
    "            \n",
    "            # where they meet, take the fast back to head\n",
    "            # the distance between head and the start of the cycle\n",
    "            # equals the distance between where they met and the start of the cycle\n",
    "            if fast == slow:\n",
    "                fast= head \n",
    "                \n",
    "                while fast != slow:\n",
    "                    fast= fast.next\n",
    "                    slow= slow.next\n",
    "                return slow\n",
    "            \n",
    "        return None "
   ]
  },
  {
   "cell_type": "markdown",
   "metadata": {},
   "source": [
    "Intersection of Two Linked Lists: Write a program to find the node at which the intersection of two singly linked lists begins. Notes:\n",
    "- If the two linked lists have no intersection at all, return null.\n",
    "- The linked lists must retain their original structure after the function returns.\n",
    "- You may assume there are no cycles anywhere in the entire linked structure.\n",
    "- Your code should preferably run in O(n) time and use only O(1) memory."
   ]
  },
  {
   "cell_type": "code",
   "execution_count": 6,
   "metadata": {
    "execution": {
     "iopub.execute_input": "2020-05-26T09:38:57.527887Z",
     "iopub.status.busy": "2020-05-26T09:38:57.527887Z",
     "iopub.status.idle": "2020-05-26T09:38:57.533743Z",
     "shell.execute_reply": "2020-05-26T09:38:57.533743Z",
     "shell.execute_reply.started": "2020-05-26T09:38:57.527887Z"
    }
   },
   "outputs": [],
   "source": [
    "# Definition for singly-linked list.\n",
    "# class ListNode:\n",
    "#     def __init__(self, x):\n",
    "#         self.val = x\n",
    "#         self.next = None\n",
    "\n",
    "class Solution:\n",
    "    def getIntersectionNode(self, headA: ListNode, headB: ListNode) -> ListNode:\n",
    "        \n",
    "        #return None directly if headA or headB are null\n",
    "        if not headA or not headB:\n",
    "            return None\n",
    "        \n",
    "        #keep the original structure of headA and headB by saving them\n",
    "        savedA, savedB = headA, headB\n",
    "        \n",
    "        # while both values are not equal iterate. When none is reached \n",
    "        # to one of the lists, go to the other list and iterate from there.\n",
    "        # if there is a connection they will both meet at the same node\n",
    "        \n",
    "        while headA != headB:\n",
    "            headA= savedB if not headA else headA.next\n",
    "            headB= savedA if not headB else headB.next\n",
    "            \n",
    "        return headA\n",
    "        "
   ]
  },
  {
   "cell_type": "markdown",
   "metadata": {},
   "source": [
    "Remove Nth Node From End of List: Given a linked list, remove the n-th node from the end of list and return its head."
   ]
  },
  {
   "cell_type": "code",
   "execution_count": 7,
   "metadata": {
    "execution": {
     "iopub.execute_input": "2020-05-26T09:38:58.239412Z",
     "iopub.status.busy": "2020-05-26T09:38:58.239412Z",
     "iopub.status.idle": "2020-05-26T09:38:58.246251Z",
     "shell.execute_reply": "2020-05-26T09:38:58.246251Z",
     "shell.execute_reply.started": "2020-05-26T09:38:58.239412Z"
    }
   },
   "outputs": [],
   "source": [
    "class ListNode:\n",
    "    def __init__(self, val=0, next=None):\n",
    "        self.val = val\n",
    "        self.next = next\n",
    "\n",
    "class Solution:\n",
    "    def removeNthFromEnd(self, head: ListNode, n: int) -> ListNode:\n",
    "        first, second = head, head\n",
    "        \n",
    "        #Take the first.next to the position of the node\n",
    "        for i in range(n):\n",
    "            first= first.next\n",
    "            \n",
    "        # if first.next is None, then nothing to delete and return the head as is\n",
    "        if not first:\n",
    "            return head.next\n",
    "        \n",
    "        # iterate both till null is reached\n",
    "        while first.next:\n",
    "            first= first.next\n",
    "            second= second.next\n",
    "            \n",
    "        # This connects the second.next to second.next.next, by dropping the node\n",
    "        second.next = second.next.next\n",
    "        \n",
    "        return head\n"
   ]
  },
  {
   "cell_type": "code",
   "execution_count": null,
   "metadata": {},
   "outputs": [],
   "source": []
  }
 ],
 "metadata": {
  "kernelspec": {
   "display_name": "Python 3",
   "language": "python",
   "name": "python3"
  },
  "language_info": {
   "codemirror_mode": {
    "name": "ipython",
    "version": 3
   },
   "file_extension": ".py",
   "mimetype": "text/x-python",
   "name": "python",
   "nbconvert_exporter": "python",
   "pygments_lexer": "ipython3",
   "version": "3.7.6"
  }
 },
 "nbformat": 4,
 "nbformat_minor": 4
}
