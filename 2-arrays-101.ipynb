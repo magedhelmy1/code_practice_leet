{
 "cells": [
  {
   "cell_type": "code",
   "execution_count": 1,
   "metadata": {
    "execution": {
     "iopub.execute_input": "2020-05-25T08:38:59.884419Z",
     "iopub.status.busy": "2020-05-25T08:38:59.884346Z",
     "iopub.status.idle": "2020-05-25T08:38:59.887267Z",
     "shell.execute_reply": "2020-05-25T08:38:59.887177Z",
     "shell.execute_reply.started": "2020-05-25T08:38:59.884405Z"
    }
   },
   "outputs": [],
   "source": [
    "from typing import List"
   ]
  },
  {
   "cell_type": "markdown",
   "metadata": {},
   "source": [
    "<h1> Arrays 101 </h1>"
   ]
  },
  {
   "cell_type": "markdown",
   "metadata": {},
   "source": [
    "Max Consecutive Ones: Given a binary array, find the maximum number of consecutive 1s in this array.\n",
    "\n",
    "Input: [1,1,0,1,1,1]\n",
    "Output: 3"
   ]
  },
  {
   "cell_type": "code",
   "execution_count": 2,
   "metadata": {
    "execution": {
     "iopub.execute_input": "2020-05-25T08:38:59.887441Z",
     "iopub.status.busy": "2020-05-25T08:38:59.887385Z",
     "iopub.status.idle": "2020-05-25T08:38:59.887901Z",
     "shell.execute_reply": "2020-05-25T08:38:59.887839Z",
     "shell.execute_reply.started": "2020-05-25T08:38:59.887428Z"
    }
   },
   "outputs": [],
   "source": [
    "class Solution:\n",
    "    def findMaxConsecutiveOnes(self, nums: List[int]) -> int:\n",
    "        max_consecutive=0\n",
    "        counter= 0\n",
    "        for num in nums:\n",
    "            if num == 1:\n",
    "                counter+=1\n",
    "                max_consecutive= max(counter,max_consecutive)\n",
    "            else:\n",
    "                counter = 0\n",
    "        return max(counter,max_consecutive)"
   ]
  },
  {
   "cell_type": "code",
   "execution_count": 3,
   "metadata": {
    "execution": {
     "iopub.execute_input": "2020-05-25T08:38:59.888065Z",
     "iopub.status.busy": "2020-05-25T08:38:59.888008Z",
     "iopub.status.idle": "2020-05-25T08:38:59.888467Z",
     "shell.execute_reply": "2020-05-25T08:38:59.888415Z",
     "shell.execute_reply.started": "2020-05-25T08:38:59.888053Z"
    }
   },
   "outputs": [
    {
     "data": {
      "text/plain": [
       "3"
      ]
     },
     "execution_count": 3,
     "metadata": {},
     "output_type": "execute_result"
    }
   ],
   "source": [
    "task_1= Solution()\n",
    "task_1.findMaxConsecutiveOnes([1,1,0,1,1,1])"
   ]
  },
  {
   "cell_type": "markdown",
   "metadata": {},
   "source": [
    "Find Numbers with Even Number of Digits: Given an array nums of integers, return how many of them contain an even number of digits.\n",
    "\n",
    "Input: nums = [12,345,2,6,7896]"
   ]
  },
  {
   "cell_type": "code",
   "execution_count": 4,
   "metadata": {
    "execution": {
     "iopub.execute_input": "2020-05-25T08:38:59.888627Z",
     "iopub.status.busy": "2020-05-25T08:38:59.888575Z",
     "iopub.status.idle": "2020-05-25T08:38:59.889114Z",
     "shell.execute_reply": "2020-05-25T08:38:59.889027Z",
     "shell.execute_reply.started": "2020-05-25T08:38:59.888615Z"
    }
   },
   "outputs": [],
   "source": [
    "class Solution:\n",
    "    def findNumbers(self, nums: List[int]) -> int:\n",
    "        \n",
    "        count= 0\n",
    "        \n",
    "        for num in nums:\n",
    "            value = 0\n",
    "            counter = 0\n",
    "            \n",
    "            while num != 0:\n",
    "                value = value * 10 + num % 10\n",
    "                num = num // 10\n",
    "                counter += 1\n",
    "                \n",
    "            if counter % 2 == 0:\n",
    "                count+=1\n",
    "        \n",
    "        return count\n",
    "        "
   ]
  },
  {
   "cell_type": "code",
   "execution_count": 5,
   "metadata": {
    "execution": {
     "iopub.execute_input": "2020-05-25T08:38:59.889256Z",
     "iopub.status.busy": "2020-05-25T08:38:59.889204Z",
     "iopub.status.idle": "2020-05-25T08:38:59.889614Z",
     "shell.execute_reply": "2020-05-25T08:38:59.889575Z",
     "shell.execute_reply.started": "2020-05-25T08:38:59.889244Z"
    }
   },
   "outputs": [
    {
     "data": {
      "text/plain": [
       "2"
      ]
     },
     "execution_count": 5,
     "metadata": {},
     "output_type": "execute_result"
    }
   ],
   "source": [
    "task = Solution()\n",
    "task.findNumbers([12,345,2,6,7896])"
   ]
  },
  {
   "cell_type": "markdown",
   "metadata": {},
   "source": [
    "Squares of a Sorted Array: Given an array of integers A sorted in non-decreasing order, return an array of the squares of each number, also in sorted non-decreasing order."
   ]
  },
  {
   "cell_type": "code",
   "execution_count": 6,
   "metadata": {
    "execution": {
     "iopub.execute_input": "2020-05-25T08:38:59.889763Z",
     "iopub.status.busy": "2020-05-25T08:38:59.889711Z",
     "iopub.status.idle": "2020-05-25T08:38:59.890183Z",
     "shell.execute_reply": "2020-05-25T08:38:59.890125Z",
     "shell.execute_reply.started": "2020-05-25T08:38:59.889751Z"
    }
   },
   "outputs": [],
   "source": [
    "class Solution:\n",
    "    def sortedSquares(self, A: List[int]) -> List[int]:\n",
    "        left= 0\n",
    "        right= len(A) -1\n",
    "        sorted_list=[]\n",
    "        \n",
    "        while left <= right:\n",
    "            \n",
    "            if abs(A[left]) >= abs(A[right]):\n",
    "                sorted_list.append(A[left]*A[left])\n",
    "                left+=1\n",
    "                \n",
    "            else:\n",
    "                sorted_list.append(A[right]*A[right])\n",
    "                right-=1\n",
    "                \n",
    "            \n",
    "        return sorted_list[::-1]"
   ]
  },
  {
   "cell_type": "code",
   "execution_count": 7,
   "metadata": {
    "execution": {
     "iopub.execute_input": "2020-05-25T08:38:59.890314Z",
     "iopub.status.busy": "2020-05-25T08:38:59.890270Z",
     "iopub.status.idle": "2020-05-25T08:38:59.890626Z",
     "shell.execute_reply": "2020-05-25T08:38:59.890583Z",
     "shell.execute_reply.started": "2020-05-25T08:38:59.890302Z"
    }
   },
   "outputs": [
    {
     "data": {
      "text/plain": [
       "[0, 1, 9, 16, 100]"
      ]
     },
     "execution_count": 7,
     "metadata": {},
     "output_type": "execute_result"
    }
   ],
   "source": [
    "task=Solution()\n",
    "task.sortedSquares([-4,-1,0,3,10])"
   ]
  },
  {
   "cell_type": "markdown",
   "metadata": {},
   "source": [
    "Duplicate Zeros: Given a fixed length array arr of integers, duplicate each occurrence of zero, shifting the remaining elements to the right. Note that elements beyond the length of the original array are not written.\n",
    " "
   ]
  },
  {
   "cell_type": "code",
   "execution_count": 10,
   "metadata": {
    "execution": {
     "iopub.execute_input": "2020-05-25T08:39:16.750893Z",
     "iopub.status.busy": "2020-05-25T08:39:16.750791Z",
     "iopub.status.idle": "2020-05-25T08:39:16.751592Z",
     "shell.execute_reply": "2020-05-25T08:39:16.751493Z",
     "shell.execute_reply.started": "2020-05-25T08:39:16.750873Z"
    }
   },
   "outputs": [],
   "source": [
    "class Solution:\n",
    "    def duplicateZeros(self, arr:List[int]) -> None:\n",
    "        \n",
    "        arr_length= len(arr)-1\n",
    "        enumerate_val= enumerate(arr)\n",
    "        \n",
    "        for i,x in enumerate_val:\n",
    "            if arr[i] == 0:\n",
    "                \n",
    "                arr.insert(i+1,0)\n",
    "                arr.pop()\n",
    "                if i != arr_length:\n",
    "                    next(enumerate_val)\n",
    "        return arr\n",
    "            "
   ]
  },
  {
   "cell_type": "code",
   "execution_count": 11,
   "metadata": {
    "execution": {
     "iopub.execute_input": "2020-05-25T08:39:17.478240Z",
     "iopub.status.busy": "2020-05-25T08:39:17.477460Z",
     "iopub.status.idle": "2020-05-25T08:39:17.482460Z",
     "shell.execute_reply": "2020-05-25T08:39:17.481990Z",
     "shell.execute_reply.started": "2020-05-25T08:39:17.47810Z"
    }
   },
   "outputs": [
    {
     "data": {
      "text/plain": [
       "[1, 0, 0, 2, 3, 0, 0, 4]"
      ]
     },
     "execution_count": 11,
     "metadata": {},
     "output_type": "execute_result"
    }
   ],
   "source": [
    "task=Solution()\n",
    "task.duplicateZeros([1,0,2,3,0,4,5,0])"
   ]
  },
  {
   "cell_type": "markdown",
   "metadata": {},
   "source": [
    "Merge Sorted Array: Given two sorted integer arrays nums1 and nums2, merge nums2 into nums1 as one sorted array."
   ]
  },
  {
   "cell_type": "code",
   "execution_count": 12,
   "metadata": {
    "execution": {
     "iopub.execute_input": "2020-05-25T08:39:17.794429Z",
     "iopub.status.busy": "2020-05-25T08:39:17.794349Z",
     "iopub.status.idle": "2020-05-25T08:39:17.795016Z",
     "shell.execute_reply": "2020-05-25T08:39:17.794936Z",
     "shell.execute_reply.started": "2020-05-25T08:39:17.794414Z"
    }
   },
   "outputs": [],
   "source": [
    "class Solution:\n",
    "    def merge(self, nums1: List[int], m: int, nums2: List[int], n:int) -> None:\n",
    "        list_1 = m - 1\n",
    "        list_2 = n - 1 \n",
    "        k = m + n - 1\n",
    "                    \n",
    "        while list_1 >= 0 and list_2 >= 0:\n",
    "\n",
    "            if nums1[list_1] >= nums2[list_2]:\n",
    "                nums1[k] = nums1[list_1]\n",
    "                list_1 -=1\n",
    "                \n",
    "            else:\n",
    "                nums1[k] = nums2[list_2]\n",
    "                list_2 -=1\n",
    "\n",
    "\n",
    "            k -= 1\n",
    "                \n",
    "        if list_1 < 0:\n",
    "            nums1[:k+1] = nums2[:list_2+1]\n",
    "                                  "
   ]
  },
  {
   "cell_type": "code",
   "execution_count": 13,
   "metadata": {
    "execution": {
     "iopub.execute_input": "2020-05-25T08:39:18.224327Z",
     "iopub.status.busy": "2020-05-25T08:39:18.224248Z",
     "iopub.status.idle": "2020-05-25T08:39:18.224686Z",
     "shell.execute_reply": "2020-05-25T08:39:18.224620Z",
     "shell.execute_reply.started": "2020-05-25T08:39:18.224313Z"
    }
   },
   "outputs": [],
   "source": [
    "task=Solution()\n",
    "task.merge([1,2,3,0,0,0], 3, [2,5,6], 3)"
   ]
  },
  {
   "cell_type": "markdown",
   "metadata": {},
   "source": [
    "Remove Element: Given an array nums and a value val, remove all instances of that value in-place and return the new length. Do not allocate extra space for another array, you must do this by modifying the input array in-place with O(1) extra memory. The order of elements can be changed. It doesn't matter what you leave beyond the new length."
   ]
  },
  {
   "cell_type": "code",
   "execution_count": 14,
   "metadata": {
    "execution": {
     "iopub.execute_input": "2020-05-25T08:39:19.648420Z",
     "iopub.status.busy": "2020-05-25T08:39:19.647610Z",
     "iopub.status.idle": "2020-05-25T08:39:19.652770Z",
     "shell.execute_reply": "2020-05-25T08:39:19.652100Z",
     "shell.execute_reply.started": "2020-05-25T08:39:19.64828Z"
    }
   },
   "outputs": [],
   "source": [
    "class Solution:\n",
    "    def removeElement(self, nums:List[int], val:int) -> int:\n",
    "        \n",
    "        j=0\n",
    "        for i in range(len(nums)):\n",
    "            if val != nums[i]:\n",
    "                nums[j]=nums[i]\n",
    "                j +=1\n",
    "                \n",
    "        return j\n",
    "                \n",
    "            "
   ]
  },
  {
   "cell_type": "code",
   "execution_count": 15,
   "metadata": {
    "execution": {
     "iopub.execute_input": "2020-05-25T08:39:19.487842Z",
     "iopub.status.busy": "2020-05-25T08:39:19.487764Z",
     "iopub.status.idle": "2020-05-25T08:39:19.488317Z",
     "shell.execute_reply": "2020-05-25T08:39:19.488268Z",
     "shell.execute_reply.started": "2020-05-25T08:39:19.487828Z"
    }
   },
   "outputs": [
    {
     "data": {
      "text/plain": [
       "2"
      ]
     },
     "execution_count": 15,
     "metadata": {},
     "output_type": "execute_result"
    }
   ],
   "source": [
    "task= Solution()\n",
    "task.removeElement([3,2,2,3], 3)"
   ]
  },
  {
   "cell_type": "markdown",
   "metadata": {},
   "source": [
    "Remove Duplicates from Sorted Array: Given a sorted array nums, remove the duplicates in-place such that each element appear only once and return the new length. Do not allocate extra space for another array, you must do this by modifying the input array in-place with O(1) extra memory."
   ]
  },
  {
   "cell_type": "code",
   "execution_count": 18,
   "metadata": {
    "execution": {
     "iopub.execute_input": "2020-05-25T08:39:27.450700Z",
     "iopub.status.busy": "2020-05-25T08:39:27.449820Z",
     "iopub.status.idle": "2020-05-25T08:39:27.457020Z",
     "shell.execute_reply": "2020-05-25T08:39:27.456000Z",
     "shell.execute_reply.started": "2020-05-25T08:39:27.45055Z"
    }
   },
   "outputs": [],
   "source": [
    "class Solution:\n",
    "    def removeDuplicates(self, nums:List[int]) -> int:\n",
    "        \n",
    "        j = 0\n",
    "        for i in range(1,len(nums)):\n",
    "            if nums[i] != nums[i-1] and i==0:\n",
    "                nums[j] = nums[i]\n",
    "                j += 1\n",
    "\n",
    "        return nums[:j]"
   ]
  },
  {
   "cell_type": "code",
   "execution_count": 19,
   "metadata": {
    "execution": {
     "iopub.execute_input": "2020-05-25T08:39:27.539453Z",
     "iopub.status.busy": "2020-05-25T08:39:27.539364Z",
     "iopub.status.idle": "2020-05-25T08:39:27.539857Z",
     "shell.execute_reply": "2020-05-25T08:39:27.539810Z",
     "shell.execute_reply.started": "2020-05-25T08:39:27.539438Z"
    }
   },
   "outputs": [
    {
     "data": {
      "text/plain": [
       "[]"
      ]
     },
     "execution_count": 19,
     "metadata": {},
     "output_type": "execute_result"
    }
   ],
   "source": [
    "task= Solution()\n",
    "task.removeDuplicates([1,1,2])"
   ]
  },
  {
   "cell_type": "markdown",
   "metadata": {},
   "source": [
    "Check If N and Its Double Exist: Given an array arr of integers, check if there exists two integers N and M such that N is the double of M ( i.e. N = 2 * M).\n"
   ]
  },
  {
   "cell_type": "code",
   "execution_count": 20,
   "metadata": {
    "execution": {
     "iopub.execute_input": "2020-05-25T08:39:28.306548Z",
     "iopub.status.busy": "2020-05-25T08:39:28.306460Z",
     "iopub.status.idle": "2020-05-25T08:39:28.306970Z",
     "shell.execute_reply": "2020-05-25T08:39:28.306902Z",
     "shell.execute_reply.started": "2020-05-25T08:39:28.306532Z"
    }
   },
   "outputs": [],
   "source": [
    "class Solution:\n",
    "    def checkIfExist(self, arr:List[int]) -> True:\n",
    "        \n",
    "        for i in range(len(arr)):\n",
    "            if arr[i]*2 in arr and arr.index(arr[i]*2 ) != i:\n",
    "                return True\n",
    "        \n",
    "        return False\n"
   ]
  },
  {
   "cell_type": "code",
   "execution_count": 21,
   "metadata": {
    "execution": {
     "iopub.execute_input": "2020-05-25T08:39:28.951620Z",
     "iopub.status.busy": "2020-05-25T08:39:28.951542Z",
     "iopub.status.idle": "2020-05-25T08:39:28.952042Z",
     "shell.execute_reply": "2020-05-25T08:39:28.951992Z",
     "shell.execute_reply.started": "2020-05-25T08:39:28.951606Z"
    }
   },
   "outputs": [
    {
     "data": {
      "text/plain": [
       "False"
      ]
     },
     "execution_count": 21,
     "metadata": {},
     "output_type": "execute_result"
    }
   ],
   "source": [
    "task= Solution()\n",
    "task.checkIfExist([-2,0,10,-19,4,6,-8])"
   ]
  },
  {
   "cell_type": "markdown",
   "metadata": {},
   "source": [
    "Valid Mountain Array: Given an array A of integers, return true if and only if it is a valid mountain array."
   ]
  },
  {
   "cell_type": "code",
   "execution_count": 22,
   "metadata": {
    "execution": {
     "iopub.execute_input": "2020-05-25T08:39:29.639914Z",
     "iopub.status.busy": "2020-05-25T08:39:29.639837Z",
     "iopub.status.idle": "2020-05-25T08:39:29.640419Z",
     "shell.execute_reply": "2020-05-25T08:39:29.640347Z",
     "shell.execute_reply.started": "2020-05-25T08:39:29.639900Z"
    }
   },
   "outputs": [],
   "source": [
    "class Solution:\n",
    "    def validMountainArray(self, A:List[int]) -> bool:\n",
    "        \n",
    "        N = len(A) - 1\n",
    "        i = 0\n",
    "        \n",
    "        while i + 1 <= N and A[i] < A[i+1]:\n",
    "            i += 1\n",
    "            \n",
    "        if i == 0 or i == N:\n",
    "            return False\n",
    "        \n",
    "        while i + 1 <= N and A[i] > A[i+1]:\n",
    "            i += 1\n",
    "            \n",
    "        \n",
    "        return i == N "
   ]
  },
  {
   "cell_type": "code",
   "execution_count": 23,
   "metadata": {
    "execution": {
     "iopub.execute_input": "2020-05-25T08:39:30.244960Z",
     "iopub.status.busy": "2020-05-25T08:39:30.244170Z",
     "iopub.status.idle": "2020-05-25T08:39:30.250340Z",
     "shell.execute_reply": "2020-05-25T08:39:30.249570Z",
     "shell.execute_reply.started": "2020-05-25T08:39:30.24482Z"
    }
   },
   "outputs": [
    {
     "data": {
      "text/plain": [
       "True"
      ]
     },
     "execution_count": 23,
     "metadata": {},
     "output_type": "execute_result"
    }
   ],
   "source": [
    "task= Solution()\n",
    "task.validMountainArray([0,3,2,1])"
   ]
  },
  {
   "cell_type": "markdown",
   "metadata": {},
   "source": [
    "Replace Elements with Greatest Element on Right Side: Given an array arr, replace every element in that array with the greatest element among the elements to its right, and replace the last element with -1. After doing so, return the array."
   ]
  },
  {
   "cell_type": "code",
   "execution_count": 24,
   "metadata": {
    "execution": {
     "iopub.execute_input": "2020-05-25T08:39:30.648073Z",
     "iopub.status.busy": "2020-05-25T08:39:30.647996Z",
     "iopub.status.idle": "2020-05-25T08:39:30.648516Z",
     "shell.execute_reply": "2020-05-25T08:39:30.648446Z",
     "shell.execute_reply.started": "2020-05-25T08:39:30.648059Z"
    }
   },
   "outputs": [],
   "source": [
    "class Solution:\n",
    "    def replaceElements(self, arr: List[int]) -> List[int]:\n",
    "        greatest= -1\n",
    "        for i in range(len(arr)-1,-1,-1):\n",
    "            arr[i], greatest= greatest, max(greatest, arr[i])\n",
    "            \n",
    "            \n",
    "        return arr\n",
    "        "
   ]
  },
  {
   "cell_type": "code",
   "execution_count": 25,
   "metadata": {
    "execution": {
     "iopub.execute_input": "2020-05-25T08:39:31.320630Z",
     "iopub.status.busy": "2020-05-25T08:39:31.319790Z",
     "iopub.status.idle": "2020-05-25T08:39:31.324790Z",
     "shell.execute_reply": "2020-05-25T08:39:31.324260Z",
     "shell.execute_reply.started": "2020-05-25T08:39:31.32049Z"
    }
   },
   "outputs": [
    {
     "data": {
      "text/plain": [
       "[18, 6, 6, 6, 1, -1]"
      ]
     },
     "execution_count": 25,
     "metadata": {},
     "output_type": "execute_result"
    }
   ],
   "source": [
    "task = Solution()\n",
    "task.replaceElements([17,18,5,4,6,1])"
   ]
  },
  {
   "cell_type": "markdown",
   "metadata": {},
   "source": [
    "Remove Duplicates from Sorted Array: Given a sorted array nums, remove the duplicates in-place such that each element appear only once and return the new length.\n",
    "\n",
    "Do not allocate extra space for another array, you must do this by modifying the input array in-place with O(1) extra memory."
   ]
  },
  {
   "cell_type": "code",
   "execution_count": 26,
   "metadata": {
    "execution": {
     "iopub.execute_input": "2020-05-25T08:39:31.703010Z",
     "iopub.status.busy": "2020-05-25T08:39:31.702929Z",
     "iopub.status.idle": "2020-05-25T08:39:31.703464Z",
     "shell.execute_reply": "2020-05-25T08:39:31.703394Z",
     "shell.execute_reply.started": "2020-05-25T08:39:31.702996Z"
    }
   },
   "outputs": [],
   "source": [
    "class Solution:\n",
    "    def removeDuplicates(self, nums: List[int]) -> int:\n",
    "        j= 1\n",
    "        # Two pointer technique equi-directional\n",
    "        for i in range(1,len(nums)):\n",
    "            if nums[i] != nums[i-1]:\n",
    "                nums[j]= nums[i]\n",
    "                j+=1\n",
    "        return j\n",
    "        "
   ]
  },
  {
   "cell_type": "code",
   "execution_count": 27,
   "metadata": {
    "execution": {
     "iopub.execute_input": "2020-05-25T08:39:32.799170Z",
     "iopub.status.busy": "2020-05-25T08:39:32.798370Z",
     "iopub.status.idle": "2020-05-25T08:39:32.803940Z",
     "shell.execute_reply": "2020-05-25T08:39:32.803430Z",
     "shell.execute_reply.started": "2020-05-25T08:39:32.79902Z"
    }
   },
   "outputs": [
    {
     "data": {
      "text/plain": [
       "5"
      ]
     },
     "execution_count": 27,
     "metadata": {},
     "output_type": "execute_result"
    }
   ],
   "source": [
    "task = Solution()\n",
    "task.removeDuplicates([0,0,1,1,1,2,2,3,3,4])"
   ]
  },
  {
   "cell_type": "markdown",
   "metadata": {},
   "source": [
    "Move Zeroes: Given an array nums, write a function to move all 0's to the end of it while maintaining the relative order of the non-zero elements."
   ]
  },
  {
   "cell_type": "code",
   "execution_count": 28,
   "metadata": {
    "execution": {
     "iopub.execute_input": "2020-05-25T08:39:32.632105Z",
     "iopub.status.busy": "2020-05-25T08:39:32.632028Z",
     "iopub.status.idle": "2020-05-25T08:39:32.632633Z",
     "shell.execute_reply": "2020-05-25T08:39:32.632564Z",
     "shell.execute_reply.started": "2020-05-25T08:39:32.632091Z"
    }
   },
   "outputs": [],
   "source": [
    "class Solution:\n",
    "    def moveZeroes(self, nums: List[int]) -> None:\n",
    "        \"\"\"\n",
    "        Do not return anything, modify nums in-place instead.\n",
    "        \"\"\"\n",
    "        j= 0\n",
    "        for i in range(len(nums)):\n",
    "            if nums[i] != 0:\n",
    "                nums[j]= nums[i]\n",
    "                j += 1\n",
    "        print(j)\n",
    "        print(len(nums))\n",
    "        nums[j:]= [0] * (len(nums)-j)\n",
    "            \n",
    "        return nums\n"
   ]
  },
  {
   "cell_type": "code",
   "execution_count": 29,
   "metadata": {
    "execution": {
     "iopub.execute_input": "2020-05-25T08:39:32.927280Z",
     "iopub.status.busy": "2020-05-25T08:39:32.927199Z",
     "iopub.status.idle": "2020-05-25T08:39:32.927962Z",
     "shell.execute_reply": "2020-05-25T08:39:32.927917Z",
     "shell.execute_reply.started": "2020-05-25T08:39:32.927263Z"
    }
   },
   "outputs": [
    {
     "name": "stdout",
     "output_type": "stream",
     "text": [
      "2\n",
      "3\n"
     ]
    },
    {
     "data": {
      "text/plain": [
       "[1, 2, 0]"
      ]
     },
     "execution_count": 29,
     "metadata": {},
     "output_type": "execute_result"
    }
   ],
   "source": [
    "task = Solution()\n",
    "task.moveZeroes([1,2,0])"
   ]
  },
  {
   "cell_type": "markdown",
   "metadata": {},
   "source": [
    "Sort Array By Parity: Given an array A of non-negative integers, return an array consisting of all the even elements of A, followed by all the odd elements of A."
   ]
  },
  {
   "cell_type": "code",
   "execution_count": 30,
   "metadata": {
    "execution": {
     "iopub.execute_input": "2020-05-25T08:39:33.496415Z",
     "iopub.status.busy": "2020-05-25T08:39:33.496332Z",
     "iopub.status.idle": "2020-05-25T08:39:33.496980Z",
     "shell.execute_reply": "2020-05-25T08:39:33.496906Z",
     "shell.execute_reply.started": "2020-05-25T08:39:33.496399Z"
    }
   },
   "outputs": [],
   "source": [
    "# Two pointers, equi-directional, one slow-runner and one fast runner\n",
    "\n",
    "class Solution:\n",
    "    def sortArrayByParity(self, A: List[int]) -> List[int]:\n",
    "        j= 0\n",
    "        odd_numbers=[]\n",
    "        \n",
    "        for i in range(len(A)):\n",
    "            if A[i] % 2 == 0:\n",
    "                A[j] = A[i]\n",
    "                j += 1\n",
    "                \n",
    "            else:\n",
    "                odd_numbers.append(A[i])\n",
    "                        \n",
    "        A[j:]= odd_numbers\n",
    "        \n",
    "        return A"
   ]
  },
  {
   "cell_type": "code",
   "execution_count": 31,
   "metadata": {
    "execution": {
     "iopub.execute_input": "2020-05-25T08:39:33.729349Z",
     "iopub.status.busy": "2020-05-25T08:39:33.729262Z",
     "iopub.status.idle": "2020-05-25T08:39:33.729791Z",
     "shell.execute_reply": "2020-05-25T08:39:33.729741Z",
     "shell.execute_reply.started": "2020-05-25T08:39:33.729334Z"
    }
   },
   "outputs": [
    {
     "data": {
      "text/plain": [
       "[2, 4, 3, 1]"
      ]
     },
     "execution_count": 31,
     "metadata": {},
     "output_type": "execute_result"
    }
   ],
   "source": [
    "task = Solution()\n",
    "task.sortArrayByParity([3,1,2,4])"
   ]
  },
  {
   "cell_type": "markdown",
   "metadata": {},
   "source": [
    "Squares of a Sorted Array: Given an array of integers A sorted in non-decreasing order, return an array of the squares of each number, also in sorted non-decreasing order"
   ]
  },
  {
   "cell_type": "code",
   "execution_count": 32,
   "metadata": {
    "execution": {
     "iopub.execute_input": "2020-05-25T08:39:34.184080Z",
     "iopub.status.busy": "2020-05-25T08:39:34.184001Z",
     "iopub.status.idle": "2020-05-25T08:39:34.184598Z",
     "shell.execute_reply": "2020-05-25T08:39:34.184530Z",
     "shell.execute_reply.started": "2020-05-25T08:39:34.184066Z"
    }
   },
   "outputs": [],
   "source": [
    "# Two pointers, opposite directional with a new list\n",
    "\n",
    "class Solution:\n",
    "    def sortedSquares(self, A: List[int]) -> List[int]:\n",
    "        \n",
    "        left= 0\n",
    "        right= len(A) - 1\n",
    "        new_list= []\n",
    "        \n",
    "        #for i in range(len(A)): unnecessary to go over whole list\n",
    "        while left <= right:\n",
    "            if abs(A[left]) > abs(A[right]):\n",
    "                new_list.append(A[left] * A[left])\n",
    "                left += 1\n",
    "                \n",
    "            else:\n",
    "                new_list.append(A[right] * A[right])\n",
    "                right -= 1\n",
    "                \n",
    "        return new_list[::-1]\n",
    "            \n",
    "        \n",
    "        "
   ]
  },
  {
   "cell_type": "code",
   "execution_count": 35,
   "metadata": {
    "execution": {
     "iopub.execute_input": "2020-05-25T08:39:38.413126Z",
     "iopub.status.busy": "2020-05-25T08:39:38.413044Z",
     "iopub.status.idle": "2020-05-25T08:39:38.413668Z",
     "shell.execute_reply": "2020-05-25T08:39:38.413623Z",
     "shell.execute_reply.started": "2020-05-25T08:39:38.413109Z"
    }
   },
   "outputs": [
    {
     "data": {
      "text/plain": [
       "[0, 1, 9, 16, 100]"
      ]
     },
     "execution_count": 35,
     "metadata": {},
     "output_type": "execute_result"
    }
   ],
   "source": [
    "task = Solution()\n",
    "task.sortedSquares([-4,-1,0,3,10])\n",
    "\n"
   ]
  },
  {
   "cell_type": "markdown",
   "metadata": {},
   "source": [
    "Height Checker: Students are asked to stand in non-decreasing order of heights for an annual photo.\n",
    "\n",
    "Return the minimum number of students that must move in order for all students to be standing in non-decreasing order of height.\n",
    "\n",
    "Notice that when a group of students is selected they can reorder in any possible way between themselves and the non selected students remain on their seats."
   ]
  },
  {
   "cell_type": "code",
   "execution_count": 54,
   "metadata": {
    "execution": {
     "iopub.execute_input": "2020-05-25T08:58:47.418136Z",
     "iopub.status.busy": "2020-05-25T08:58:47.418054Z",
     "iopub.status.idle": "2020-05-25T08:58:47.418718Z",
     "shell.execute_reply": "2020-05-25T08:58:47.418614Z",
     "shell.execute_reply.started": "2020-05-25T08:58:47.418121Z"
    }
   },
   "outputs": [],
   "source": [
    "class Solution:\n",
    "    def heightChecker(self, heights: List[int]) -> int:\n",
    "        \n",
    "        result= 0\n",
    "        for h1,h2 in zip(heights, sorted(heights)):\n",
    "            if h1 != h2:\n",
    "                result +=  1\n",
    "                    \n",
    "        return result\n",
    "            \n",
    "        "
   ]
  },
  {
   "cell_type": "code",
   "execution_count": 55,
   "metadata": {
    "execution": {
     "iopub.execute_input": "2020-05-25T08:58:47.552703Z",
     "iopub.status.busy": "2020-05-25T08:58:47.552624Z",
     "iopub.status.idle": "2020-05-25T08:58:47.553109Z",
     "shell.execute_reply": "2020-05-25T08:58:47.553061Z",
     "shell.execute_reply.started": "2020-05-25T08:58:47.552688Z"
    }
   },
   "outputs": [
    {
     "data": {
      "text/plain": [
       "3"
      ]
     },
     "execution_count": 55,
     "metadata": {},
     "output_type": "execute_result"
    }
   ],
   "source": [
    "task = Solution()\n",
    "task.heightChecker([1,1,4,2,1,3])"
   ]
  },
  {
   "cell_type": "markdown",
   "metadata": {},
   "source": [
    "Third Maximum Number: Given a non-empty array of integers, return the third maximum number in this array. If it does not exist, return the maximum number. The time complexity must be in O(n)."
   ]
  },
  {
   "cell_type": "code",
   "execution_count": 94,
   "metadata": {
    "execution": {
     "iopub.execute_input": "2020-05-25T09:22:20.503774Z",
     "iopub.status.busy": "2020-05-25T09:22:20.503689Z",
     "iopub.status.idle": "2020-05-25T09:22:20.504489Z",
     "shell.execute_reply": "2020-05-25T09:22:20.504419Z",
     "shell.execute_reply.started": "2020-05-25T09:22:20.503759Z"
    }
   },
   "outputs": [],
   "source": [
    "class Solution:\n",
    "    def thirdMax(self, nums: List[int]) -> int:\n",
    "        \n",
    "        maxima= [float(\"-inf\")] * 3 # Create a list with 3 empty slots\n",
    "        \n",
    "        for num in nums: \n",
    "            if num in maxima: #you do not have to check existing values\n",
    "                continue\n",
    "                \n",
    "            if num > maxima[0]:\n",
    "                maxima= [num] + maxima[:2]\n",
    "                \n",
    "            elif num > maxima[1]:\n",
    "                maxima[1:]= [num, maxima[1]]\n",
    "                \n",
    "            elif num > maxima[2]:\n",
    "                maxima[2]= num\n",
    "                \n",
    "        if maxima[2] != float(\"-inf\"):\n",
    "            return maxima[2]\n",
    "\n",
    "        else:\n",
    "            return maxima[0]\n",
    "            \n",
    "            "
   ]
  },
  {
   "cell_type": "code",
   "execution_count": 95,
   "metadata": {
    "execution": {
     "iopub.execute_input": "2020-05-25T09:22:20.646652Z",
     "iopub.status.busy": "2020-05-25T09:22:20.646573Z",
     "iopub.status.idle": "2020-05-25T09:22:20.647071Z",
     "shell.execute_reply": "2020-05-25T09:22:20.647024Z",
     "shell.execute_reply.started": "2020-05-25T09:22:20.646637Z"
    }
   },
   "outputs": [
    {
     "data": {
      "text/plain": [
       "2"
      ]
     },
     "execution_count": 95,
     "metadata": {},
     "output_type": "execute_result"
    }
   ],
   "source": [
    "task = Solution()\n",
    "task.thirdMax( [1, 2])"
   ]
  },
  {
   "cell_type": "markdown",
   "metadata": {},
   "source": [
    "Find All Numbers Disappeared in an Array: Given an array of integers where 1 ≤ a[i] ≤ n (n = size of array), some elements appear twice and others appear once.\n",
    "\n",
    "Find all the elements of [1, n] inclusive that do not appear in this array.\n",
    "\n",
    "Could you do it without extra space and in O(n) runtime? You may assume the returned list does not count as extra space."
   ]
  },
  {
   "cell_type": "code",
   "execution_count": 133,
   "metadata": {
    "execution": {
     "iopub.execute_input": "2020-05-25T12:37:15.947901Z",
     "iopub.status.busy": "2020-05-25T12:37:15.947774Z",
     "iopub.status.idle": "2020-05-25T12:37:15.948792Z",
     "shell.execute_reply": "2020-05-25T12:37:15.948671Z",
     "shell.execute_reply.started": "2020-05-25T12:37:15.947875Z"
    }
   },
   "outputs": [],
   "source": [
    "class Solution:\n",
    "    def findDisappearedNumbers(self, nums: List[int]) -> List[int]:\n",
    "        # the idea of this method is to use the numbers as their index\n",
    "        for num in nums:\n",
    "            num= abs(num) # just in case it re-visitng a negative number\n",
    "            nums[num-1]= -abs(nums[num-1])  # save it as negative in its index\n",
    "           \n",
    "        # The remaning positive numbers, are those which did not have a number in the list, \n",
    "        # we return their position as the missing ones.\n",
    "        \n",
    "        result = []\n",
    "        for i, num in enumerate(nums):\n",
    "            if num > 0:\n",
    "                result.append(i+1)\n",
    "                \n",
    "            \n",
    "        return result\n",
    "        "
   ]
  },
  {
   "cell_type": "code",
   "execution_count": 134,
   "metadata": {
    "execution": {
     "iopub.execute_input": "2020-05-25T12:37:16.843220Z",
     "iopub.status.busy": "2020-05-25T12:37:16.841840Z",
     "iopub.status.idle": "2020-05-25T12:37:16.850800Z",
     "shell.execute_reply": "2020-05-25T12:37:16.849880Z",
     "shell.execute_reply.started": "2020-05-25T12:37:16.84295Z"
    }
   },
   "outputs": [
    {
     "data": {
      "text/plain": [
       "[3]"
      ]
     },
     "execution_count": 134,
     "metadata": {},
     "output_type": "execute_result"
    }
   ],
   "source": [
    "task = Solution()\n",
    "task.findDisappearedNumbers([1, 2,2])"
   ]
  }
 ],
 "metadata": {
  "kernelspec": {
   "display_name": "xpython",
   "language": "python",
   "name": "xpython"
  },
  "language_info": {
   "file_extension": ".py",
   "mimetype": "text/x-python",
   "name": "python",
   "version": "3.7.6"
  }
 },
 "nbformat": 4,
 "nbformat_minor": 4
}
